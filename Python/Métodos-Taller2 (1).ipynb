{
 "cells": [
  {
   "cell_type": "markdown",
   "metadata": {},
   "source": [
    "<font  face=\"Times New Roman\"> <H3> Análisis: </H3><br>\n",
    "<font  face=\"Times New Roman\" size=3> Se tiene un sistema de ecuaciones diferenciales **no lineales** por lo que debemos reducir algunas de las ecuaciones diferenciales a primer orden, esto teniendo en cuenta que se debera solucionar el sistema dos veces, una para el intervalo  $ 0\\leq{t}\\leq{1 s}$, donde el voltaje es 0 y una vez más para $ 1\\leq{t}\\leq{8 s}$ . También se debe tener presente todas las condiciones iniciales en cada caso. \n",
    "\n",
    "**Para $ 0\\leq{t}\\leq{1 s}$:**\n",
    "\n",
    "se sabe que si el voltaje es 0 no habrá corriente en el circuito, es decir:\n",
    "    \n",
    "- $\\dot{q}_1(0) = 0$\n",
    "- $\\dot{q}_3(0) = 0$\n",
    "- $\\dot{q}_2(0) = 0$\n",
    "- $q_1(0) = 0.001C$\n",
    "\n",
    "Entonces, despejando de cada ecuación la incongnita $i$ para $ i=1,2,3$ de la ecuación $i$ obteniendo:\n",
    "\n",
    "- Ecuación 4: $$\\dot{q}_1(t) = \\frac{-\\frac{1}{c_2}q_1(t)+ \\frac{1}{c_2}q_2(t) + \\frac{1}{c_2}q_3(t)+ R_2\\dot{q}_3(t)-\\frac{1}{c_1}q_1(t) }{R_2}    $$ <br>\n",
    "\n",
    "- Ecuación 5: $$\\ddot{q}_2(t) = \\frac{\\frac{1}{c_2}q_1(t)-\\frac{1}{c_2}q_2(t)- \\frac{1}{c_2}q_3(t)}{L_2} $$<br>\n",
    "\n",
    "- Ecuación 6: $$\\ddot{q}_3(t) =\\frac{R_2\\dot{q}_1(t) - \\dot{q}_3(t)(R_1 + R_2) + \\frac{1}{c_2}q_1(t)-\\frac{1}{c_2}q_2(t)-\\frac{1}{c_2}q_3(t)}{L_1}$$<br>\n",
    "\n",
    "Reemplazamos $\\dot{q}_1(t)$ por su equivalencia (de ecuación 4):\n",
    "\n",
    "$$\\ddot{q}_3(t) =\\frac{-\\frac{1}{c1}q_1(t)-R_1\\dot{q}_3(t)}{L_1} $$<br>\n",
    "\n",
    "Luego se debe transformar las ecuaciones de segundo orden en ecuaciones de primer orden:\n",
    "\n",
    "- Para la ecuación 4:\n",
    "$$ q_1(t) = y_1(t)$$\n",
    "$$ \\dot{q_1}(t) = g_1(t)$$\n",
    " \n",
    "$$\\frac{dy_1(t)}{dt}= \\frac{dq_1(t)}{dt} =\\dot{q}_1(t)=g_1(t) \\qquad \\rightarrow \\qquad \\frac{d y_1(t)}{dt} = g_1(t) \\qquad (a)  $$ <br>\n",
    "\n",
    "- Para la ecuación 5:\n",
    "\n",
    "$$q_2(t) =   y_2(t) $$\n",
    "$$\\dot{q_2}(t) =    y_3(t)$$\n",
    "$$\\ddot{q_2}(t) =    g_2(t)$$\n",
    "\n",
    " $$\\frac{dy_2(t)}{dt}= \\frac{dq_2(t)}{dt} =\\dot{q}_2(t)=y_3(t) \\qquad \\rightarrow \\qquad \\frac{d y_2(t)}{dt} = y_3(t) \\qquad (b)  $$ <br>  \n",
    " $$\\frac{dy_3(t)}{dt}= \\frac{d\\dot{q}_2(t)}{dt} =\\ddot{q}_2(t)=g_2(t) \\qquad \\rightarrow \\qquad \\frac{d y_3(t)}{dt} = g_2(t) \\qquad (c)  $$ <br>\n",
    " \n",
    "- Para la ecuación 6:\n",
    "\n",
    "$$q_3(t) =  y_4(t)$$\n",
    "$$\\dot{q_3}(t) =  y_5(t)$$\n",
    "$$\\ddot{q_3}(t) =  g_3(t)$$\n",
    "\n",
    "Análogamente se obtienen las siguientes ecuaciones:\n",
    "\n",
    "$$\\frac{d y_4(t)}{dt} = y_5(t)\\qquad (d)$$<br>\n",
    "$$\\frac{d y_5(t)}{dt} = g_3(t)\\qquad (e)$$<br>\n",
    "\n",
    "Ahora teniendo en cuenta todos los cambios de variables y las ecuaciones a,b,c,d y e, obtenemos el sistema de ecuaciones diferenciales de primer orden a resolver:\n",
    "\n",
    "$$\\frac{d y_1(t)}{dt} = \\frac{-\\frac{1}{c_2}y_1(t)+ \\frac{1}{c_2}y_2(t) + \\frac{1}{c_2}y_4(t)+ R_2y_5(t)-\\frac{1}{c_1}y_1(t) }{R_2}  \\qquad (A)  $$ <br>\n",
    "\n",
    "$$\\frac{d y_3(t)}{dt} = \\frac{\\frac{1}{c_2}y_1(t)-\\frac{1}{c_2}y_2(t)- \\frac{1}{c_2}y_4(t)}{L_2} \\qquad (B) $$<br>\n",
    "\n",
    "$$\\frac{d y_2(t)}{dt} = y_3(t) \\qquad (C)  $$ <br>\n",
    "\n",
    "$$\\frac{d y_5(t)}{dt} =\\frac{-\\frac{1}{c_1}y_1(t)- R_1y_5(t)}{L_1} \\qquad (D)$$<br>\n",
    "\n",
    "$$\\frac{d y_4(t)}{dt} = y_5(t)\\qquad (E)$$<br>\n",
    "\n",
    "Se puede observar que se obtuvo un sistema de ecuaciones diferenciales 5x5 de orden 1, lo único faltante para poder aplicar un método al sistema es determinar las condiciones iniciales, se asume como la carga de los capacitores 2 y 3 como 0, cuando $t=0$, es decir :\n",
    "\n",
    "- $\\dot{q}_2(0)=y_3(0)  = 0$\n",
    "- $\\dot{q}_3(0)=y_5(0) = 0$\n",
    "- $q_1(0)= y_1(0) = 0.001C$\n",
    "- $q_2(0) = y_2(0) = 0$\n",
    "- $q_3(0) = y_4(0) = 0$\n",
    "\n",
    "**Para $ 1\\leq{t}\\leq{8 s}$:**\n",
    "\n",
    "Procediendo de la misma manera que con el sistema de ecuaciones diferenciales anterior se obtiene:\n",
    "\n",
    "$$\\frac{d y_1(t)}{dt} = \\frac{110-\\frac{1}{c_2}y_1(t)+ \\frac{1}{c_2}y_2(t) + \\frac{1}{c_2}y_4(t)+ R_2y_5(t)-\\frac{1}{c_1}y_1(t) }{R_2}  \\qquad (A)  $$ <br>\n",
    "\n",
    "$$\\frac{d y_3(t)}{dt} = \\frac{\\frac{1}{c_2}y_1(t)-\\frac{1}{c_2}y_2(t)- \\frac{1}{c_2}y_4(t)}{L_2} \\qquad (B) $$<br>\n",
    "\n",
    "$$\\frac{d y_2(t)}{dt} = y_3(t) \\qquad (C)  $$ <br>\n",
    "\n",
    "$$\\frac{d y_5(t)}{dt} =\\frac{110-\\frac{1}{c_1}y_1(t)- R_1y_5(t)}{L_1} \\qquad (D)$$<br>\n",
    "\n",
    "$$\\frac{d y_4(t)}{dt} = y_5(t)\\qquad (E)$$<br>\n",
    "\n",
    "Se puede observar que se obtuvo un sistema de ecuaciones diferenciales 5x5 de orden 1, lo único faltante para poder aplicar un método al sistema es determinar las condiciones iniciales, estas serían los valores para las cargas y corriente halladas con el sistema de ecuaciones anterior evaluado en $t = 1$."
   ]
  },
  {
   "cell_type": "code",
   "execution_count": 2,
   "metadata": {},
   "outputs": [],
   "source": [
    "import numpy as np\n",
    "import pandas as pd \n",
    "import copy as copy\n",
    "import matplotlib.pyplot as plt\n",
    "%matplotlib inline"
   ]
  },
  {
   "cell_type": "code",
   "execution_count": 55,
   "metadata": {},
   "outputs": [],
   "source": [
    "n=5   \n",
    "R1 = 350; R2 = 220; L1 =1.2; L2=2;C1=3.5*10**-3;C2=2.8*10**-3 # número de ecuaciones\n",
    "F={\"F1\":\"(100-(1/C2)*y[0]+(1/C2)*y[1]+(1/C2)*y[3]+R2*y[4]-(1/C1)*y[0])/R2\", \"F2\":'y[2]',\"F3\":'((1/C2)*y[0]-(1/C2)*y[1]-(1/C2)*y[3])/L2', \"F4\":\"y[4]\",\"F5\":'(100-(1/C1)*y[0]-R1*y[4])/L1'}  #ecuaciones\n",
    "int_sol = (1,8)                                 #intervalo de solución \n",
    "a = float(int_sol[0]); b= float(int_sol[1])\n",
    "h = float(0.001)                                      #paso\n",
    "y_0ls =(0.001,0,0,0,0)                                    #Condiciones iniciales \n",
    "y_0  = np.array(eval('['+str(y_0ls)+']'))    "
   ]
  },
  {
   "cell_type": "code",
   "execution_count": 56,
   "metadata": {},
   "outputs": [],
   "source": [
    "xsol=np.arange(a,b+h,h)\n",
    "nx=len(xsol)\n",
    "ysol=np.zeros((nx,n)) #Matriz de solución (nx x n)\n",
    "ysol[0,:] = y_0[0,:]\n",
    "phi=np.zeros((n,1)) #Pendiente\n",
    "#Términos de la pendiente\n",
    "k1= np.zeros((n,1))         \n",
    "k2=np.zeros((n,1))              # términos de la pendiente\n",
    "k3=np.zeros((n,1))\n",
    "k4=np.zeros((n,1))\n",
    "for i in range(1,nx):\n",
    "    x=xsol[i-1]; y=copy.copy(ysol[i-1,:])       #Soluciones \n",
    "    for j in range(n):\n",
    "        k1[j]=eval(F['F' +str(j+1)])           # K1 para todas las ecuaciones evaluando F1.F2,F3\n",
    "    x=xsol[i-1]+(1/2)*h\n",
    "    for k in range(n):\n",
    "        y[k]=copy.copy(ysol[i-1,k]+(1/2)*k1[k]*h)      \n",
    "    for j in range(n):\n",
    "        k2[j]=eval(F['F' +str(j+1)])            # K2 para todas las ecuaciones evaluando F1.F2,F3\n",
    "    for k in range(n):\n",
    "        y[k]=copy.copy(ysol[i-1,k]+(1/2)*k1[k]*h)\n",
    "    for j in range(n):\n",
    "        k3[j]=eval(F['F' +str(j+1)])            # K3 para todas las ecuaciones evaluando F1.F2,F3\n",
    "        x=xsol[i-1]+h\n",
    "    for k in range(n):\n",
    "        y[k]=copy.copy(ysol[i-1,k]+k3[k]*h)\n",
    "    for j in range(n):\n",
    "        k4[j]= eval(F['F'+str(j+1)])              # K4 para todas las ecuaciones evaluando F1.F2,F3\n",
    "    for j in range(n):\n",
    "        phi[j]=(1/6)*(k1[j]+2*k2[j]+2*k3[j]+k4[j])    # pendiente de cada ecuación\n",
    "        ysol[i,j]=ysol[i-1,j]+phi[j]*h                 #soluciones"
   ]
  },
  {
   "cell_type": "code",
   "execution_count": 57,
   "metadata": {},
   "outputs": [
    {
     "data": {
      "text/plain": [
       "[<matplotlib.lines.Line2D at 0x5a2de08>]"
      ]
     },
     "execution_count": 57,
     "metadata": {},
     "output_type": "execute_result"
    },
    {
     "data": {
      "image/png": "[encoded data removed]",
      "text/plain": [
       "<Figure size 815.472x504 with 1 Axes>"
      ]
     },
     "metadata": {
      "needs_background": "light"
     },
     "output_type": "display_data"
    }
   ],
   "source": [
    "plt.figure(figsize=(7*1.618,7))\n",
    "plt.plot(xsol,ysol[:,0],color='b',marker='',label=' ')\n",
    "plt.plot(xsol,ysol[:,1],color='k',marker='',label=' ')\n",
    "plt.plot(xsol,ysol[:,2],color='r',marker='',label=' ')\n",
    "plt.plot(xsol,ysol[:,3],color='g',marker='',label=' ')\n",
    "plt.plot(xsol,ysol[:,4],color='y',marker='',label=' ')\n",
    "\n"
   ]
  },
  {
   "cell_type": "code",
   "execution_count": 43,
   "metadata": {},
   "outputs": [
    {
     "data": {
      "text/plain": [
       "[7.626047810732321e-05,\n",
       " 0.00012175058754467608,\n",
       " 0.004140084294695556,\n",
       " -0.0003418693968004884,\n",
       " -6.414170893291715e-05]"
      ]
     },
     "execution_count": 43,
     "metadata": {},
     "output_type": "execute_result"
    }
   ],
   "source": [
    "y_0s2"
   ]
  },
  {
   "cell_type": "code",
   "execution_count": 44,
   "metadata": {},
   "outputs": [
    {
     "data": {
      "text/plain": [
       "array([[ 7.62604781e-05,  1.21750588e-04,  4.14008429e-03,\n",
       "        -3.41869397e-04, -6.41417089e-05]])"
      ]
     },
     "execution_count": 44,
     "metadata": {},
     "output_type": "execute_result"
    }
   ],
   "source": [
    "y_0_1"
   ]
  },
  {
   "cell_type": "code",
   "execution_count": null,
   "metadata": {},
   "outputs": [],
   "source": []
  }
 ],
 "metadata": {
  "kernelspec": {
   "display_name": "Python 3",
   "language": "python",
   "name": "python3"
  },
  "language_info": {
   "codemirror_mode": {
    "name": "ipython",
    "version": 3
   },
   "file_extension": ".py",
   "mimetype": "text/x-python",
   "name": "python",
   "nbconvert_exporter": "python",
   "pygments_lexer": "ipython3",
   "version": "3.7.4"
  }
 },
 "nbformat": 4,
 "nbformat_minor": 2
}
