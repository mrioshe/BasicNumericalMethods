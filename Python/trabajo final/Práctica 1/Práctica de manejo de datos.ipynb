{
 "cells": [
  {
   "cell_type": "code",
   "execution_count": 7,
   "metadata": {},
   "outputs": [
    {
     "data": {
      "text/html": [
       "<style>.container { width:95% !important; }</style>"
      ],
      "text/plain": [
       "<IPython.core.display.HTML object>"
      ]
     },
     "metadata": {},
     "output_type": "display_data"
    }
   ],
   "source": [
    "from IPython.core.display import display, HTML\n",
    "display(HTML(\"<style>.container { width:95% !important; }</style>\"))"
   ]
  },
  {
   "cell_type": "markdown",
   "metadata": {},
   "source": [
    "# Practica 1 (5%) - Manejo de datos"
   ]
  },
  {
   "cell_type": "code",
   "execution_count": 10,
   "metadata": {},
   "outputs": [],
   "source": [
    "import pandas as pd\n",
    "import numpy as np"
   ]
  },
  {
   "cell_type": "code",
   "execution_count": 1,
   "metadata": {},
   "outputs": [],
   "source": [
    "''' Este comando intenta cargar plotly. Si ocurre un error es porque \n",
    "    posiblemente el módulo no esté instalado. En ese caso,\n",
    "    el except lo instala automáticamente.\n",
    "'''\n",
    "try:\n",
    "    import plotly.graph_objects as go\n",
    "except:\n",
    "    !pip install plotly"
   ]
  },
  {
   "cell_type": "markdown",
   "metadata": {},
   "source": [
    "# Definición de funciones y variables"
   ]
  },
  {
   "cell_type": "code",
   "execution_count": 8,
   "metadata": {},
   "outputs": [],
   "source": [
    "def return_test(df):\n",
    "    float_opacity_ref = 35.0\n",
    "    dict_results = {False:'Aprobado',True:'Rechazado'}\n",
    "    return(df.apply(lambda x:x['opacity_prom']>=float_opacity_ref,axis = 1))"
   ]
  },
  {
   "cell_type": "code",
   "execution_count": 14,
   "metadata": {},
   "outputs": [],
   "source": [
    "def plot_summary_test(df):\n",
    "    trace = go.Scatter(x = df.rpm_prom,y = df.opacity_prom,\n",
    "                    line = dict(width = 3),mode = 'markers+lines')\n",
    "    fig = go.Figure(data = traces)\n",
    "    fig.update_layout(plot_bgcolor = 'white',margin = {'r':0,'b':20,'t':20,'l':0},\n",
    "                      legend_orientation = 'h',height = 250,\n",
    "                     xaxis_title = 'Régimen de giro [rpm]',yaxis_title = 'Opacidad []')\n",
    "    return(fig)"
   ]
  },
  {
   "cell_type": "markdown",
   "metadata": {},
   "source": [
    "## Vehículos de prueba para realizar la práctica"
   ]
  },
  {
   "cell_type": "code",
   "execution_count": 2,
   "metadata": {},
   "outputs": [],
   "source": [
    "vehicle_AAA000 = 'RPM Gobernada Medida [1/Min]2820RPM Ralentí Medida [1/Min]604Temp. Motor [ºC]75Opa. Ciclo1 [%]3,3RPM C1 [1/Min.]2820Opa. Ciclo2 [%]2,7RPM C2 [1/Min.]2810Opa. C3 [%]2,8RPM Ciclo3 [1/Min.]2820Opa. C4 [%]2,2RPM Ciclo4 [1/Min]2820Opa. Prom. [%]2,57Valor Norma[%]35LTOE [mm] (Diámetro tubo de escape)65Temp. Fin Mot. [ºC]74RESULTA'\n",
    "vehicle_BBB111 = 'RPM Gobernada Medida [1/Min]2900RPM Ralentí Medida [1/Min]660Temp. Motor [ºC]72Opa. Ciclo1 [%]4,1RPM C1 [1/Min.]2900Opa. Ciclo2 [%]3,5RPM C2 [1/Min.]2900Opa. C3 [%]2,1RPM Ciclo3 [1/Min.]2910Opa. C4 [%]2,5RPM Ciclo4 [1/Min]2910Opa. Prom. [%]2,7Valor Norma[%]35LTOE [mm] (Diámetro tubo de escape)65Temp. Fin Mot. [ºC]96RESULTAD'\n",
    "vehicle_CCC222 = 'RPM Gobernada Medida [1/Min]2820RPM Ralentí Medida [1/Min]594Temp. Motor [ºC]62Opa. Ciclo1 [%]1,9RPM C1 [1/Min.]2820Opa. Ciclo2 [%]2,1RPM C2 [1/Min.]2820Opa. C3 [%]2,0RPM Ciclo3 [1/Min.]2820Opa. C4 [%]1,9RPM Ciclo4 [1/Min]2830Opa. Prom. [%]2Valor Norma[%]35LTOE [mm] (Diámetro tubo de escape)65Temp. Fin Mot. [ºC]69RESULTADO:'\n",
    "vehicle_DDD333 = 'RPM Gobernada Medida [1/Min]2790RPM Ralentí Medida [1/Min]670Temp. Motor [ºC]50Opa. Ciclo1 [%]1,4RPM C1 [1/Min.]2780Opa. Ciclo2 [%]1,8RPM C2 [1/Min.]2780Opa. C3 [%]1,5RPM Ciclo3 [1/Min.]2780Opa. C4 [%]1,5RPM Ciclo4 [1/Min]2780Opa. Prom. [%]1,6Valor Norma[%]35LTOE [mm] (Diámetro tubo de escape)65Temp. Fin Mot. [ºC]97RESULTAD'\n",
    "vehicle_EEE444 = 'RPM Gobernada Medida [1/Min]2810RPM Ralentí Medida [1/Min]656Temp. Motor [ºC]68Opa. Ciclo1 [%]1,0RPM C1 [1/Min.]2800Opa. Ciclo2 [%]0,6RPM C2 [1/Min.]2810Opa. C3 [%]0,7RPM Ciclo3 [1/Min.]2800Opa. C4 [%]1,0RPM Ciclo4 [1/Min]2800Opa. Prom. [%]0,77Valor Norma[%]35LTOE [mm] (Diámetro tubo de escape)65Temp. Fin Mot. [ºC]93RESULTA'\n",
    "vehicle_FFF555 = 'RPM Gobernada Medida [1/Min]2800RPM Ralentí Medida [1/Min]659Temp. Motor [ºC]54Opa. Ciclo1 [%]1,6RPM C1 [1/Min.]2800Opa. Ciclo2 [%]1,3RPM C2 [1/Min.]2790Opa. C3 [%]2,0RPM Ciclo3 [1/Min.]2800Opa. C4 [%]1,7RPM Ciclo4 [1/Min]2790Opa. Prom. [%]1,67Valor Norma[%]35LTOE [mm] (Diámetro tubo de escape)65Temp. Fin Mot. [ºC]59RESULTA'"
   ]
  },
  {
   "cell_type": "markdown",
   "metadata": {},
   "source": [
    "# Parte I"
   ]
  },
  {
   "cell_type": "code",
   "execution_count": null,
   "metadata": {},
   "outputs": [],
   "source": []
  },
  {
   "cell_type": "markdown",
   "metadata": {},
   "source": [
    "# Parte II"
   ]
  },
  {
   "cell_type": "code",
   "execution_count": null,
   "metadata": {},
   "outputs": [],
   "source": []
  },
  {
   "cell_type": "markdown",
   "metadata": {},
   "source": [
    "# Parte III"
   ]
  },
  {
   "cell_type": "code",
   "execution_count": null,
   "metadata": {},
   "outputs": [],
   "source": []
  }
 ],
 "metadata": {
  "kernelspec": {
   "display_name": "Python 3",
   "language": "python",
   "name": "python3"
  },
  "language_info": {
   "codemirror_mode": {
    "name": "ipython",
    "version": 3
   },
   "file_extension": ".py",
   "mimetype": "text/x-python",
   "name": "python",
   "nbconvert_exporter": "python",
   "pygments_lexer": "ipython3",
   "version": "3.7.1"
  }
 },
 "nbformat": 4,
 "nbformat_minor": 2
}
