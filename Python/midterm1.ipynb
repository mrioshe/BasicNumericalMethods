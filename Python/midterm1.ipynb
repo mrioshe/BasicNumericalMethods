{
 "cells": [
  {
   "cell_type": "markdown",
   "metadata": {},
   "source": [
    "<font  face=\"Times New Roman\"  color = '628CC8 '> <H3> Presentado por: Esmeralda Palacio Hernández </H2>"
   ]
  },
  {
   "cell_type": "markdown",
   "metadata": {},
   "source": [
    "# Enunciados de programación:"
   ]
  },
  {
   "cell_type": "markdown",
   "metadata": {},
   "source": [
    "## 2) Teorema de Fermat"
   ]
  },
  {
   "cell_type": "markdown",
   "metadata": {},
   "source": [
    "El teorema de Fermat expresa que no existen números naturales a, b y c tales que:\n",
    "\n",
    " $$a^{n} = b^{n}+c^{n} $$\n",
    " \n",
    " excepto para $n\\leq{2}$. Crea un programa en **Colaboratory** que lo compruebe para $n=2$ y los primeros cien números naturales $a$ y $b$."
   ]
  },
  {
   "cell_type": "code",
   "execution_count": 93,
   "metadata": {},
   "outputs": [
    {
     "name": "stdout",
     "output_type": "stream",
     "text": [
      "Para n igual a dos y a = 5 y para b =  3 entonces, c = 4.0\n",
      "Para n igual a dos y a = 5 y para b =  4 entonces, c = 3.0\n",
      "Para n igual a dos y a = 10 y para b =  6 entonces, c = 8.0\n",
      "Para n igual a dos y a = 10 y para b =  8 entonces, c = 6.0\n",
      "Para n igual a dos y a = 13 y para b =  5 entonces, c = 12.0\n",
      "Para n igual a dos y a = 13 y para b =  12 entonces, c = 5.0\n",
      "Para n igual a dos y a = 15 y para b =  9 entonces, c = 12.0\n",
      "Para n igual a dos y a = 15 y para b =  12 entonces, c = 9.0\n",
      "Para n igual a dos y a = 17 y para b =  8 entonces, c = 15.0\n",
      "Para n igual a dos y a = 17 y para b =  15 entonces, c = 8.0\n",
      "Para n igual a dos y a = 20 y para b =  12 entonces, c = 16.0\n",
      "Para n igual a dos y a = 20 y para b =  16 entonces, c = 12.0\n",
      "Para n igual a dos y a = 25 y para b =  7 entonces, c = 24.0\n",
      "Para n igual a dos y a = 25 y para b =  15 entonces, c = 20.0\n",
      "Para n igual a dos y a = 25 y para b =  20 entonces, c = 15.0\n",
      "Para n igual a dos y a = 25 y para b =  24 entonces, c = 7.0\n",
      "Para n igual a dos y a = 26 y para b =  10 entonces, c = 24.0\n",
      "Para n igual a dos y a = 26 y para b =  24 entonces, c = 10.0\n",
      "Para n igual a dos y a = 29 y para b =  20 entonces, c = 21.0\n",
      "Para n igual a dos y a = 29 y para b =  21 entonces, c = 20.0\n",
      "Para n igual a dos y a = 30 y para b =  18 entonces, c = 24.0\n",
      "Para n igual a dos y a = 30 y para b =  24 entonces, c = 18.0\n",
      "Para n igual a dos y a = 34 y para b =  16 entonces, c = 30.0\n",
      "Para n igual a dos y a = 34 y para b =  30 entonces, c = 16.0\n",
      "Para n igual a dos y a = 35 y para b =  21 entonces, c = 28.0\n",
      "Para n igual a dos y a = 35 y para b =  28 entonces, c = 21.0\n",
      "Para n igual a dos y a = 37 y para b =  12 entonces, c = 35.0\n",
      "Para n igual a dos y a = 37 y para b =  35 entonces, c = 12.0\n",
      "Para n igual a dos y a = 39 y para b =  15 entonces, c = 36.0\n",
      "Para n igual a dos y a = 39 y para b =  36 entonces, c = 15.0\n",
      "Para n igual a dos y a = 40 y para b =  24 entonces, c = 32.0\n",
      "Para n igual a dos y a = 40 y para b =  32 entonces, c = 24.0\n",
      "Para n igual a dos y a = 41 y para b =  9 entonces, c = 40.0\n",
      "Para n igual a dos y a = 41 y para b =  40 entonces, c = 9.0\n",
      "Para n igual a dos y a = 45 y para b =  27 entonces, c = 36.0\n",
      "Para n igual a dos y a = 45 y para b =  36 entonces, c = 27.0\n",
      "Para n igual a dos y a = 50 y para b =  14 entonces, c = 48.0\n",
      "Para n igual a dos y a = 50 y para b =  30 entonces, c = 40.0\n",
      "Para n igual a dos y a = 50 y para b =  40 entonces, c = 30.0\n",
      "Para n igual a dos y a = 50 y para b =  48 entonces, c = 14.0\n",
      "Para n igual a dos y a = 51 y para b =  24 entonces, c = 45.0\n",
      "Para n igual a dos y a = 51 y para b =  45 entonces, c = 24.0\n",
      "Para n igual a dos y a = 52 y para b =  20 entonces, c = 48.0\n",
      "Para n igual a dos y a = 52 y para b =  48 entonces, c = 20.0\n",
      "Para n igual a dos y a = 53 y para b =  28 entonces, c = 45.0\n",
      "Para n igual a dos y a = 53 y para b =  45 entonces, c = 28.0\n",
      "Para n igual a dos y a = 55 y para b =  33 entonces, c = 44.0\n",
      "Para n igual a dos y a = 55 y para b =  44 entonces, c = 33.0\n",
      "Para n igual a dos y a = 58 y para b =  40 entonces, c = 42.0\n",
      "Para n igual a dos y a = 58 y para b =  42 entonces, c = 40.0\n",
      "Para n igual a dos y a = 60 y para b =  36 entonces, c = 48.0\n",
      "Para n igual a dos y a = 60 y para b =  48 entonces, c = 36.0\n",
      "Para n igual a dos y a = 61 y para b =  11 entonces, c = 60.0\n",
      "Para n igual a dos y a = 61 y para b =  60 entonces, c = 11.0\n",
      "Para n igual a dos y a = 65 y para b =  16 entonces, c = 63.0\n",
      "Para n igual a dos y a = 65 y para b =  25 entonces, c = 60.0\n",
      "Para n igual a dos y a = 65 y para b =  33 entonces, c = 56.0\n",
      "Para n igual a dos y a = 65 y para b =  39 entonces, c = 52.0\n",
      "Para n igual a dos y a = 65 y para b =  52 entonces, c = 39.0\n",
      "Para n igual a dos y a = 65 y para b =  56 entonces, c = 33.0\n",
      "Para n igual a dos y a = 65 y para b =  60 entonces, c = 25.0\n",
      "Para n igual a dos y a = 65 y para b =  63 entonces, c = 16.0\n",
      "Para n igual a dos y a = 68 y para b =  32 entonces, c = 60.0\n",
      "Para n igual a dos y a = 68 y para b =  60 entonces, c = 32.0\n",
      "Para n igual a dos y a = 70 y para b =  42 entonces, c = 56.0\n",
      "Para n igual a dos y a = 70 y para b =  56 entonces, c = 42.0\n",
      "Para n igual a dos y a = 73 y para b =  48 entonces, c = 55.0\n",
      "Para n igual a dos y a = 73 y para b =  55 entonces, c = 48.0\n",
      "Para n igual a dos y a = 74 y para b =  24 entonces, c = 70.0\n",
      "Para n igual a dos y a = 74 y para b =  70 entonces, c = 24.0\n",
      "Para n igual a dos y a = 75 y para b =  21 entonces, c = 72.0\n",
      "Para n igual a dos y a = 75 y para b =  45 entonces, c = 60.0\n",
      "Para n igual a dos y a = 75 y para b =  60 entonces, c = 45.0\n",
      "Para n igual a dos y a = 75 y para b =  72 entonces, c = 21.0\n",
      "Para n igual a dos y a = 78 y para b =  30 entonces, c = 72.0\n",
      "Para n igual a dos y a = 78 y para b =  72 entonces, c = 30.0\n",
      "Para n igual a dos y a = 80 y para b =  48 entonces, c = 64.0\n",
      "Para n igual a dos y a = 80 y para b =  64 entonces, c = 48.0\n",
      "Para n igual a dos y a = 82 y para b =  18 entonces, c = 80.0\n",
      "Para n igual a dos y a = 82 y para b =  80 entonces, c = 18.0\n",
      "Para n igual a dos y a = 85 y para b =  13 entonces, c = 84.0\n",
      "Para n igual a dos y a = 85 y para b =  36 entonces, c = 77.0\n",
      "Para n igual a dos y a = 85 y para b =  40 entonces, c = 75.0\n",
      "Para n igual a dos y a = 85 y para b =  51 entonces, c = 68.0\n",
      "Para n igual a dos y a = 85 y para b =  68 entonces, c = 51.0\n",
      "Para n igual a dos y a = 85 y para b =  75 entonces, c = 40.0\n",
      "Para n igual a dos y a = 85 y para b =  77 entonces, c = 36.0\n",
      "Para n igual a dos y a = 85 y para b =  84 entonces, c = 13.0\n",
      "Para n igual a dos y a = 87 y para b =  60 entonces, c = 63.0\n",
      "Para n igual a dos y a = 87 y para b =  63 entonces, c = 60.0\n",
      "Para n igual a dos y a = 89 y para b =  39 entonces, c = 80.0\n",
      "Para n igual a dos y a = 89 y para b =  80 entonces, c = 39.0\n",
      "Para n igual a dos y a = 90 y para b =  54 entonces, c = 72.0\n",
      "Para n igual a dos y a = 90 y para b =  72 entonces, c = 54.0\n",
      "Para n igual a dos y a = 91 y para b =  35 entonces, c = 84.0\n",
      "Para n igual a dos y a = 91 y para b =  84 entonces, c = 35.0\n",
      "Para n igual a dos y a = 95 y para b =  57 entonces, c = 76.0\n",
      "Para n igual a dos y a = 95 y para b =  76 entonces, c = 57.0\n",
      "Para n igual a dos y a = 97 y para b =  65 entonces, c = 72.0\n",
      "Para n igual a dos y a = 97 y para b =  72 entonces, c = 65.0\n",
      "Para n igual a dos y a = 100 y para b =  28 entonces, c = 96.0\n",
      "Para n igual a dos y a = 100 y para b =  60 entonces, c = 80.0\n",
      "Para n igual a dos y a = 100 y para b =  80 entonces, c = 60.0\n",
      "Para n igual a dos y a = 100 y para b =  96 entonces, c = 28.0\n"
     ]
    }
   ],
   "source": [
    "# Para este caso no se considera como número natural el 0, puesto que este cumpliría para n>2.\n",
    "# despejando de la ecuación tenemos que si n=2, entonces c=(a^2-b^2)^(1/2).\n",
    "for i in range(1,101):# Los dos ciclos anidados permite variar a y b los primero 100 números naturales (de 1 a 100)\n",
    "    for j in range(1,101):\n",
    "        z= (i**2-j**2)\n",
    "        if z>0: # Condicional para evitar errores con números imaginarios\n",
    "            c=z**(0.5)\n",
    "            if c%1==0: # Condicional para comprobar si es un número entero, y con el anterior condicional a y b mayor que 0 \n",
    "                # entonces indirectamente se comprobo que c es un número natural.\n",
    "                print('Para n igual a dos y a =', i, 'y para b = ',j,'entonces, c =', c)\n"
   ]
  },
  {
   "cell_type": "markdown",
   "metadata": {},
   "source": [
    "¿Qué deberías cambiar a tu programa para que lo compruebe con cualquier n entre 3 y 10?\n",
    "\n",
    "Para esto se usa el código anterior donde se cambia el exponente 2 por un exponente n (entre 3 y 10) el cual será argumento de una función $f(n)$,  (es decir def f(n)) y luego se pide por medio de un input ingresar el n y se llama la respectiva función, también podría anexar un contador en la función para contar el número de casos que cumple la igualdad de este teorema de Fermat, entonces como para $n\\leq{2}$ no cumple entonces para $n$ entre 3 y 10 este contador debería ser 0."
   ]
  },
  {
   "cell_type": "markdown",
   "metadata": {},
   "source": [
    "## 3) Números de Fibonacci"
   ]
  },
  {
   "cell_type": "markdown",
   "metadata": {},
   "source": [
    "Crea un probama en **Colaboratory** que calcule y visualice los elementos de la serie de Fibonacci. Esta serie se define así:\n",
    "\n",
    "$$Fib(0)=1$$\n",
    "$$Fib(1)=1$$\n",
    "$$Fib(2)=Fib(1)+Fib(0)$$\n",
    "$$...$$\n",
    "$$Fib(n)=Fib(n-1)+Fib(n-2)$$\n",
    "\n",
    "El usuario tan solo introducirá el número de elementos que quiere visualizar."
   ]
  },
  {
   "cell_type": "code",
   "execution_count": 98,
   "metadata": {},
   "outputs": [
    {
     "name": "stdout",
     "output_type": "stream",
     "text": [
      "Ingrese el número de la terminos de Fibonacci que desea: 10\n",
      "0, 1, 1, 2, 3, 5, 8, 13, 21, 34\n"
     ]
    }
   ],
   "source": [
    "a=0 # declaramos a para nombrar el término Fib(0)\n",
    "b=1 # declaramos a para nombrar el término Fib(1)\n",
    "n=int(input('Ingrese el número de la terminos de Fibonacci que desea: ')) # se pide el número de términos de Fibonacci deseados\n",
    "print(0,end=', ') # se imprime Fib(0)\n",
    "print(1,end=', ') # se término Fib(1)\n",
    "for i in range(n-2): # Declaramos ciclo para imprimir los n-2 términos,\n",
    "                    #el ciclo se repite n-2 veces debido a que ya se imprimió los dos primeros terminos, entonces en total\n",
    "                    #serían n términos.\n",
    "    c=a+b \n",
    "    if i== (n-3): \n",
    "        print(c)                # Condicional para imprimir en el mismo renglón los terminos y no línea a línea\n",
    "    else:\n",
    "        print(c, end=', ')\n",
    "\n",
    "    a=b # llevamos a la variable a el término f(n-1)\n",
    "    b=c # llevamos a la variable b el término f(n)\n",
    "    \n",
    "        "
   ]
  },
  {
   "cell_type": "markdown",
   "metadata": {},
   "source": [
    "## 4) Seno inverso"
   ]
  },
  {
   "cell_type": "markdown",
   "metadata": {},
   "source": [
    "Implemente en **Colaboratory** un algoritmo que dado un número $x(x<1)$ y un número natura $N$. Cálcule el valor del seno inverso usando los primeros $N$ términos de la serie\n",
    "\n",
    "$$ sin^{-1}z=z+\\left(\\frac{1}{2}\\right)\\frac{z^{3}}{3}+\\left(\\frac{1 \\times 3}{2\\times4}\\right)\\frac{z^{5}}{5}+\\left(\\frac{1\\times3\\times5}{2\\times4\\times6}\\right)\\frac{z^{7}}{7} $$"
   ]
  },
  {
   "cell_type": "code",
   "execution_count": 76,
   "metadata": {},
   "outputs": [
    {
     "name": "stdout",
     "output_type": "stream",
     "text": [
      "Ingrese el valor x, menor a 1: 0.5\n",
      "Ingrese los N términos para la aproximación: 10\n",
      "Arcseno(0.5) es aproximadamente: 0.5235987704784364 Rad\n"
     ]
    }
   ],
   "source": [
    "# Pedimos al usuario que ingrese el número x (argumento del seno inverso) y los N terminos de la suma que se tomarán\n",
    "x,N=float(input('Ingrese el valor x, menor a 1: ')),int(input('Ingrese los N términos para la aproximación: '))\n",
    "if N==1: # Consideramos el primer caso cuando nos piden aproximar con un término de la suma\n",
    "    s=x\n",
    "else:   # Consideramos el resto de casos\n",
    "    s=x # Se tiene en cuenta el primer termino en la suma\n",
    "    for i in range(2,N+1): # Ciclo que nos permitira sumar los N terminos, empieza en 2 porque el término 1 se tuvo en cuenta en la línea anterior\n",
    "        a=(x**(2*i-1))/(2*i-1) # a nos representa de cada termino la parte por fuera del parentesis\n",
    "        b=1 # Cada vez que vamos a sumar un nuevo término damos el valor de 1 para que no quede con valores de la anterior iteración\n",
    "        for k in range(1,i): # ciclo encargado de realizar la operación i-ésima que está dentro de parentesis de cada término\n",
    "            b*=(2*k-1)/(2*k) # b nos representa la operación dentro de paréntesis del k-ésimo término\n",
    "        s+= a*b # llevamos a la suma el valor del producto i-ésimo de la operación entre paréntesis y el termino por fuera de este\n",
    "\n",
    "print('Arcseno(',x,') es aproximadamente: ', s,' Rad', sep='')    "
   ]
  }
 ],
 "metadata": {
  "kernelspec": {
   "display_name": "Python 3",
   "language": "python",
   "name": "python3"
  },
  "language_info": {
   "codemirror_mode": {
    "name": "ipython",
    "version": 3
   },
   "file_extension": ".py",
   "mimetype": "text/x-python",
   "name": "python",
   "nbconvert_exporter": "python",
   "pygments_lexer": "ipython3",
   "version": "3.7.4"
  }
 },
 "nbformat": 4,
 "nbformat_minor": 2
}
