{
 "cells": [
  {
   "cell_type": "markdown",
   "metadata": {},
   "source": [
    "#                                                        Contexto  \n",
    "Se tiene un sistema de aire comprimido, en el cual un compresor suministra aire a dos depósitos en serie conectados mediante tuberías cilíndricas.\n",
    "\n",
    "Para cada tramo de tubería se define una resistencia al flujo de aire $(R_f,i)$, que depende del\n",
    "diámetro de la tubería, de su longitud, y de las propiedades del aire que fluye por su interior:\n",
    "$$Rf,i\\cong\\dfrac {128µLi }{πρd^4}     \\qquad (1) $$\n",
    "\n",
    "Para cada tanque se define una capacitancia de flujo $Cf_i$, la cual está relacionada con su\n",
    "capacidad para almacenar fluidos:\n",
    "$$R_f,i\\cong\\dfrac {πD_i^2}{4*g}     \\qquad (2) $$\n",
    "\n",
    "El modelo físico que describe este sistema determina cómo evoluciona la presión en los tanques cuando se enciende el compresor. Las ecuaciones diferenciales que componen el modelo son las siguientes:\n",
    "$$(C_f1*R_f1*R_f2)\\dfrac {dp_1(t)}{dt} + (R_f,1 + R_f,2)*p1(t)+ Rf_1*p2(t) = Rf_2 *pcomp     \\qquad(3) $$\n",
    "\n",
    "$$(C_f1 *C_f2*R_f1*R_f2)\\dfrac {d^2p_2(t)}{dt^2} + [C_f2*(R_f1 + R_f2) + Cf,1 * Rf,1]\\dfrac {dp_2(t)}{dt}+ p_2(t) = pcomp  \\qquad (4) $$\n",
    "\n",
    "Las variables p1(t) y p2(t) son las presiones en los tanques 1 y 2, respectivamente. La variable pcomp representa la presión de  suministro de aire por parte del compresor, la cual se considera constante e igual a 5 bar (manométrica) desde el inicio del proceso.\n",
    "La presión en los tanques y en las tuberías en el momento en el cual se enciende el compresor es la atmosférica. Si se toman todas las presiones como manométricas, este valor de presión inicial es igual a cero.\n",
    "\n",
    "\n",
    "Para el problema planteado se pide:\n",
    "1. Resuelva las ecuaciones 3 y 4 usando el método de Runge–Kutta de cuarto orden, desde el instante en el cual se enciende el compresor (t = 0) hasta t = 700 s, usando un paso de tamaño 1 s.\n",
    "2. Una vez se calcule la solución, represente en la misma gráfica la evolución de las dos presiones (en bar) con el tiempo (en s) para el dominio especificado . Analice brevemente el resultado.\n",
    "\n",
    "\n"
   ]
  },
  {
   "cell_type": "markdown",
   "metadata": {},
   "source": [
    "# Importacion de librerias"
   ]
  },
  {
   "cell_type": "code",
   "execution_count": 1,
   "metadata": {},
   "outputs": [],
   "source": [
    "import numpy as np\n",
    "import pandas as pd \n",
    "import copy as copy\n",
    "import matplotlib.pyplot as plt\n",
    "%matplotlib inline"
   ]
  },
  {
   "cell_type": "markdown",
   "metadata": {},
   "source": [
    "# Definición de constantes\n",
    " \n",
    "Se procede a definir los valores de las variables que compomen el sitema (longitudes,diámetros y demás variables), para así continuar con el calculo los valores de resistencia al flujo de aire y la capacitancia de flujo de cada tramo de tuberia."
   ]
  },
  {
   "cell_type": "code",
   "execution_count": 2,
   "metadata": {},
   "outputs": [],
   "source": [
    "L_1 = 3        # m\n",
    "L_2 = 6        # m\n",
    "d_1 = 0.03     # m\n",
    "d_2 = 0.03      # m\n",
    "p = 1.21       # kg/m^3\n",
    "u = 89/5000000   # Ns/m^2\n",
    "g = 9.81          #m/s^2\n",
    "D_1 = 0.5          # m\n",
    "D_2 = 0.4          # m\n",
    "Pcom = 5           #bar\n",
    "R_f_1 = (128*u*L_1)/(np.pi*p*(d_1)**4)          #resistencia al flujo de aire 1\n",
    "R_f_2 = (128*u*L_2)/(np.pi*p*(d_2)**4)          #resistencia al flujo de aire 2\n",
    "C_f_1 = (np.pi*(D_1)**2)/(4*g)                  #capacitancia de flujo 1\n",
    "C_f_2 = (np.pi*(D_2)**2)/(4*g)                  #capacitancia de flujo 2"
   ]
  },
  {
   "cell_type": "markdown",
   "metadata": {},
   "source": [
    "# Simplificación de las ecuaciones que modelan el sistema\n",
    "\n",
    "Se procede a simplificar la ecuación diferencial resumiendo los valores constantes que acompañan a las variables.\n",
    "\n",
    "$a_1=(C_f1*R_f1*R_f2)$\n",
    "\n",
    "$b_1=(R_f,1 + R_f,2)$\n",
    "\n",
    "$c_1=Rf_1$\n",
    "\n",
    "$a_2=(C_f1 *C_f2*R_f1*R_f2)$\n",
    "\n",
    "$b_2=(C_f2*(R_f1 + R_f2) + Cf_1 * R_f1)$\n",
    "\n",
    "$c_2=1$\n",
    "\n",
    "$d_2=Pcom$\n",
    "\n",
    "\n",
    "\n",
    "$$a_1*p'_1 + b_1*p_1+ c_1*p_2 = d_1    \\qquad(5) $$\n",
    "\n",
    "$$a_2* p'' +p'_2*b_2+c_2*p_2 = d_2 \\qquad (6) $$\n",
    "\n"
   ]
  },
  {
   "cell_type": "code",
   "execution_count": 3,
   "metadata": {},
   "outputs": [],
   "source": [
    "a1 = (C_f_1*R_f_1*R_f_2)\n",
    "a2 = (C_f_1*C_f_2*R_f_2*R_f_1)\n",
    "b1 = (R_f_1 + R_f_2)\n",
    "b2 = (C_f_2*(R_f_1 + R_f_2) + C_f_1*R_f_1)\n",
    "c1 = (R_f_1)\n",
    "c2= 1\n",
    "d1 = (R_f_2*Pcom) \n",
    "d2 = (Pcom)\n"
   ]
  },
  {
   "cell_type": "markdown",
   "metadata": {},
   "source": [
    "# Definición del problema \n",
    "\n",
    "Se procede a plantear el problema por medio de la lógica de runge-kutta, para eso primero se despeja la derivada de mayor orden en 5 y 6 y se procede a plantear las ecuaciones diferenciales como un sistema de ecuaciones ordinarias de primer orden \n",
    "\n",
    "$$\\dfrac {d_1 - b_1*p_1 - c_1*p_2}{a_1} = p'_1   \\qquad(7) $$\n",
    "\n",
    "$$\\dfrac {d_2 - b_2*p'_2-c_2*p_2}{a_2} =p''_2 \\qquad (8) $$\n",
    "\n",
    "Para reducir el orden se hace la siguiente transformación de variables\n",
    "\n",
    "$$  Y_0=P_1\\qquad  Y_1=P_2  \\qquad  Y_2=P'_2$$\n",
    "\n",
    "Para contrUir el sistema de ecuaciones se derivan las anteriores sustituciones y se plantean nuevamente las ecuaciones que modelan el sistema\n",
    "\n",
    "$$ \\dfrac {dy_0}{dt}= p'_1  \\qquad \\dfrac {dy_1}{dt}= p'_2  \\qquad \\dfrac {dy_2}{dt}= p''_2  $$\n",
    "\n",
    "$ \\dfrac {dY_0}{dt}=\\dfrac {d_1 - b_1*Y_0 - c_1*Y_1}{a_1} $\n",
    "\n",
    "$ \\dfrac {dY_1}{dt}= Y_2 $\n",
    "\n",
    "$ \\dfrac {dY_2}{dt}=\\dfrac {d_2 - b_2*Y_2-c_2*Y_1}{a_2}$\n",
    "\n",
    "Para resolver el anterior sistema de ecuaciones se deben tener en cuenta las condiciones iniciales que compañan al proceso en un tiempo t=0\n",
    "\n",
    "\n",
    "CONDICIONES INICALES\n",
    "\n",
    "$Y_0=p_1(0)=0$\n",
    "\n",
    "$Y_1=p_2(0)=0$\n",
    "\n",
    "$Y_2=p'_2(0)=0$\n",
    "\n",
    "\n",
    "\n",
    "\n"
   ]
  },
  {
   "cell_type": "code",
   "execution_count": 4,
   "metadata": {},
   "outputs": [],
   "source": [
    "n=3                                                                              # número de ecuaciones\n",
    "F= {'F1':'(d1-b1*y[0]-c1*y[1])/a1','F2':'y[2]', 'F3':'(d2-b2*y[2]-c2*y[1])/a2'}  #ecuaciones\n",
    "int_sol = (0,700)                                 #intervalo de solución \n",
    "a = float(int_sol[0]); b= float(int_sol[1])\n",
    "h = float(1)                                      #paso\n",
    "y_0ls =(0,0,0)                                    #Condiciones iniciales \n",
    "y_0  = np.array(eval('['+str(y_0ls)+']'))        "
   ]
  },
  {
   "cell_type": "code",
   "execution_count": 5,
   "metadata": {},
   "outputs": [],
   "source": [
    "xsol=np.arange(a,b+h,h)\n",
    "nx=len(xsol)\n",
    "ysol=np.zeros((nx,n)) #Matriz de solución (nx x n)\n",
    "ysol[0,:] = y_0[0,:]\n",
    "phi=np.zeros((n,1)) #Pendiente\n",
    "#Términos de la pendiente\n",
    "k1= np.zeros((n,1))         \n",
    "k2=np.zeros((n,1))              # términos de la pendiente\n",
    "k3=np.zeros((n,1))\n",
    "k4=np.zeros((n,1))\n",
    "for i in range(1,nx):\n",
    "    x=xsol[i-1]; y=copy.copy(ysol[i-1,:])       #Soluciones \n",
    "    for j in range(n):\n",
    "        k1[j]=eval(F['F' +str(j+1)])           # K1 para todas las ecuaciones evaluando F1.F2,F3\n",
    "    x=xsol[i-1]+(1/2)*h\n",
    "    for k in range(n):\n",
    "        y[k]=copy.copy(ysol[i-1,k]+(1/2)*k1[k]*h)      \n",
    "    for j in range(n):\n",
    "        k2[j]=eval(F['F' +str(j+1)])            # K2 para todas las ecuaciones evaluando F1.F2,F3\n",
    "    for k in range(n):\n",
    "        y[k]=copy.copy(ysol[i-1,k]+(1/2)*k1[k]*h)\n",
    "    for j in range(n):\n",
    "        k3[j]=eval(F['F' +str(j+1)])            # K3 para todas las ecuaciones evaluando F1.F2,F3\n",
    "        x=xsol[i-1]+h\n",
    "    for k in range(n):\n",
    "        y[k]=copy.copy(ysol[i-1,k]+k3[k]*h)\n",
    "    for j in range(n):\n",
    "        k4[j]= eval(F['F'+str(j+1)])              # K4 para todas las ecuaciones evaluando F1.F2,F3\n",
    "    for j in range(n):\n",
    "        phi[j]=(1/6)*(k1[j]+2*k2[j]+2*k3[j]+k4[j])    # pendiente de cada ecuación\n",
    "        ysol[i,j]=ysol[i-1,j]+phi[j]*h                 #soluciones\n"
   ]
  },
  {
   "cell_type": "markdown",
   "metadata": {},
   "source": [
    "# GRÁFICAS\n",
    "Utilizando la librerias de maplolib se procede a graficar la presión del tanque 1 y el tanque 2 "
   ]
  },
  {
   "cell_type": "code",
   "execution_count": 6,
   "metadata": {},
   "outputs": [
    {
     "data": {
      "image/png": "[encoded data removed]",
      "text/plain": [
       "<Figure size 815.472x504 with 1 Axes>"
      ]
     },
     "metadata": {
      "needs_background": "light"
     },
     "output_type": "display_data"
    }
   ],
   "source": [
    "plt.figure(figsize=(7*1.618,7))\n",
    "plt.plot(xsol,ysol[:,1],color='b',marker='',label='Presión tanque 2')\n",
    "plt.plot(xsol,ysol[:,0],color='k',marker='',label='presión tanque 1')\n",
    "plt.xlabel('TIEMPO (t) ')\n",
    "plt.ylabel('Presión [bar]')\n",
    "_=plt.legend()\n",
    "_=plt.title(\"\\nPRESIÓN VS TIEMPO\\n\",fontsize = 18)"
   ]
  },
  {
   "cell_type": "markdown",
   "metadata": {},
   "source": [
    "# Resultados\n",
    "Inicialmente la presión en el tanque 1 es mayor que en el tanque 2, esto puede ser debido esta en contacto directo con el compresor. Luego a medida que transcurre el tiempo, se puede observar en la gráfica que la presión en el tanque 2 supera a la del tanque 1, esto debido a que la presión se define como p=f/a y dado que el tanque 1 posee un mayor diámetro a medida que se estabilice el sistema su presión en comparación con el tanque 2, será menor.\n"
   ]
  }
 ],
 "metadata": {
  "kernelspec": {
   "display_name": "Python 3",
   "language": "python",
   "name": "python3"
  },
  "language_info": {
   "codemirror_mode": {
    "name": "ipython",
    "version": 3
   },
   "file_extension": ".py",
   "mimetype": "text/x-python",
   "name": "python",
   "nbconvert_exporter": "python",
   "pygments_lexer": "ipython3",
   "version": "3.7.4"
  }
 },
 "nbformat": 4,
 "nbformat_minor": 2
}
