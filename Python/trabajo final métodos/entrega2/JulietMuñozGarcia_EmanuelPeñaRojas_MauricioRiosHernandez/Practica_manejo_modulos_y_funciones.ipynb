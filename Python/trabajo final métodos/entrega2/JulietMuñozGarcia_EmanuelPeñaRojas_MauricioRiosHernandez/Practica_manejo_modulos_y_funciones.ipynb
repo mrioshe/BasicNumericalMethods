{
 "cells": [
  {
   "cell_type": "code",
   "execution_count": 1,
   "metadata": {},
   "outputs": [
    {
     "data": {
      "text/html": [
       "<style>.container { width:95% !important; }</style>"
      ],
      "text/plain": [
       "<IPython.core.display.HTML object>"
      ]
     },
     "metadata": {},
     "output_type": "display_data"
    }
   ],
   "source": [
    "from IPython.core.display import display, HTML\n",
    "display(HTML(\"<style>.container { width:95% !important; }</style>\"))"
   ]
  },
  {
   "cell_type": "markdown",
   "metadata": {},
   "source": [
    "# Practica 3 (10%) - Práctica de manejo de módulos y funciones "
   ]
  },
  {
   "cell_type": "markdown",
   "metadata": {},
   "source": [
    "#### Integrantes:\n",
    "- Mauricio Ríos Hernández\n",
    "- Emanuel Peña Rojas\n",
    "- Juliet Muñoz García"
   ]
  },
  {
   "cell_type": "markdown",
   "metadata": {},
   "source": [
    "#### Esquema solución del problema."
   ]
  },
  {
   "cell_type": "markdown",
   "metadata": {},
   "source": [
    "<img src=\"images/esquema.png\" width=500 height=250>"
   ]
  },
  {
   "cell_type": "markdown",
   "metadata": {},
   "source": [
    "#### Diagrama de flujo resumido. "
   ]
  },
  {
   "cell_type": "markdown",
   "metadata": {},
   "source": [
    "<img src=\"images/diagrama.png\" width=500 height=250>"
   ]
  },
  {
   "cell_type": "markdown",
   "metadata": {},
   "source": [
    "#### Importamos librerías útiles."
   ]
  },
  {
   "cell_type": "code",
   "execution_count": 2,
   "metadata": {},
   "outputs": [],
   "source": [
    "import pandas as pd\n",
    "import numpy as np\n",
    "import plotly.graph_objects as go\n",
    "# La librería plotly permite realizar gráficas de manera muy versatil puesto que se pueden varíar muchos elementos de las figura.\n",
    "\n",
    "from ipywidgets import widgets,interact,Layout # widgets sirve para crear figuras para interactuar con el usuario.\n",
    "                                               # interact permite que determinado subprograma se ejecute continuamente sin la necesidad\n",
    "                                               # la celda cada vez que los widgets varíen\n",
    "                                            \n",
    "from datetime import datetime, timedelta \n",
    "#la librería datetime sirve para la manipulación de fechas y datos de diferentes formas\n",
    "#la función datetime permite transformar un vector de números en fechas como cadena de caracteres. \n",
    "#la función deltatime sirve para expresar la diferencia entre dos datos de tiempo.\n",
    "\n",
    "from plotly.subplots import make_subplots\n",
    "# El módulo make_subplots permite organizar gráficos en forma de matriz, es decir, en filas y columnas.\n",
    "\n",
    "from scipy.signal import savgol_filter\n",
    "# Módulo para suavizar curvas."
   ]
  },
  {
   "cell_type": "markdown",
   "metadata": {},
   "source": [
    "## 1. Creación de variables, funciones y objetos."
   ]
  },
  {
   "cell_type": "markdown",
   "metadata": {},
   "source": [
    "#### Carga de archivos."
   ]
  },
  {
   "cell_type": "code",
   "execution_count": 3,
   "metadata": {},
   "outputs": [],
   "source": [
    "data = pd.read_excel('data/owid-covid-data.xlsx') # Guardamos la base de datos del COVID-19 en DataFrame.\n",
    "data_country_iso_code = pd.read_excel('data/coutry_iso_code.xlsx') # Guardamos la lista en excel de los códigos ISO de cada país en un df.\n",
    "\n",
    "# Creamos un df que contega: Código ISO 3166-1 como índice y como columna el país respectivo,puesto que en la BD del COVID 19\n",
    "#ese es el iso usado.\n",
    "data_country_iso = pd.DataFrame(columns=['Nombre del país'], index = data_country_iso_code['ISO 3166-1 .1']) \n",
    "data_country_iso['Nombre del país'] = list(data_country_iso_code['Nombre del país'])                         "
   ]
  },
  {
   "cell_type": "markdown",
   "metadata": {},
   "source": [
    "#### Creamos lista de fechas."
   ]
  },
  {
   "cell_type": "code",
   "execution_count": 4,
   "metadata": {},
   "outputs": [],
   "source": [
    "fecha_inicio = datetime(2019,12,31)\n",
    "fecha_fin= datetime(2020,7,1)\n",
    "#fecha_fin = date.today() si la base de datos se acualizara automaticamente se podría usar este código para que se consultase la fecha del día que se ejecute el cuarderno\n",
    "\n",
    "# Es necesario llevar los datos tipo datetime a la forma Y-m-d puesto que en la BD del COVID 19 ese es el formato usado.\n",
    "list_date = [(fecha_inicio + timedelta(days=d)).strftime(\"%Y-%m-%d\") \n",
    "                    for d in range((fecha_fin - fecha_inicio).days + 1)]\n",
    "# Esta lista tendra en un indice respectivo guardadas tcada una de las fechas desde que la BD tiene registro (2019-12-31) \n",
    "#hasta la última acualización de la BD."
   ]
  },
  {
   "cell_type": "markdown",
   "metadata": {},
   "source": [
    "#### Subprograma derivación numérica.\n",
    "\n",
    "Se usará diferencia finita centrada de error del orden de O(h^4). Debido a que existe la posibilidad de tomar los dos primeros datos, o los dos ultimos (de la lista de fechas), se debe tomar diferencia finita hacia adelante en caso de los dos primeros y diferencia finita hacia atras en caso de los dos últimos. Se usará las diferencias finitas de error del orden de O(h^2) en caso de diferencia finita hacia adelante y hacia atras. Las ecuaciones de estas diferencias finitas son:\n",
    "\n",
    "- Diferencia finita centrada:\n",
    "\n",
    "$$ f'(x_i) \\cong \\frac{-f(x_i+2h) + 8f(x_i + h) - 8f(x_i-h)+f(x_i-2h) }{12h}$$\n",
    "\n",
    "- Diferencia finita hacia adelante:\n",
    "\n",
    "$$ f'(x_i)\\cong  \\frac{-f(x_i + 2h) + 4f(x_i + h) - 3f(x_i) }{2h}$$\n",
    "- Diferencia finita hacia atrás:\n",
    "\n",
    "$$ f'(x_i)\\cong  \\frac{3f(x_i) - 4f(x_i - h) + f(x_i-2h) }{2h}$$"
   ]
  },
  {
   "cell_type": "code",
   "execution_count": 5,
   "metadata": {},
   "outputs": [],
   "source": [
    "def derivada(lista):\n",
    "    lista_derivada=np.zeros(len(lista))\n",
    "    h = 1                                                                       # recordando que el paso en este caso es constante\n",
    "\n",
    "    for k in range(len(lista)): # Creamos ciclo, donde por medio de la variable k recorreremos todos los datos del DataFrame, tanto la posición angular y la presión.\n",
    "        if k <= 1:\n",
    "                lista_derivada[k] = (-lista[k+2] + 4*lista[k+1] - 3*lista[k]) / 2*h   # Diferencia finita hacia adelante\n",
    "                                                                                      # de la primera derivada.\n",
    "\n",
    "        elif k >= (len(lista)-2) :\n",
    "                lista_derivada[k] = (3*lista[k] - 4*lista[k-1]  + lista[k-2]) / 2*h # Diferencia finita hacia atrás\n",
    "                                                                                   # de la primera derivada.\n",
    "\n",
    "        else:\n",
    "                lista_derivada[k] = (-lista[k+2] +8*lista[k+1]-8*lista[k-1]+lista[k-2]) / 12*h # Diferencia centrada\n",
    "                                                                                              # centrada de la primera derivada.\n",
    "    return(lista_derivada)"
   ]
  },
  {
   "cell_type": "markdown",
   "metadata": {},
   "source": [
    "#### Subprograma de generador de DataFrames de pais."
   ]
  },
  {
   "cell_type": "code",
   "execution_count": 15,
   "metadata": {},
   "outputs": [],
   "source": [
    "def gen_coutry_data (iso_code): # Subprograma que genera un df con los datos del COVID-19 introduciendo el valor del código ISO 3166-1.\n",
    "    list_total_cases = []\n",
    "    list_new_cases = []         # Generamos listas vacías que guardarán los datos del COVID-19 de determinado país.\n",
    "    list_total_deaths = []\n",
    "    list_new_deaths = []\n",
    "    \n",
    "    \n",
    "    list_suavizado_diff_new_cases = []\n",
    "    list_suavizado_diff_new_deaths = []\n",
    "    \n",
    "    for j in range (len(data)):\n",
    "        if data['iso_code'][j]== iso_code: # Buscamos todas las filas de nuestra BD que el código ISO 3166-1 coincida con el solicitado.\n",
    "            list_total_cases.append(data['total_cases'][j])\n",
    "            list_new_cases.append(data['new_cases'][j])\n",
    "            list_total_deaths.append(data['total_deaths'][j]) # Agregamos los valores de la fila i-ésima de la BD a las listas.\n",
    "            list_new_deaths.append(data['new_deaths'][j]) \n",
    "            \n",
    "    n = len(list_date)-len(list_new_cases) # Buscamos número de días sin casos ni muertes (sin registro en la BD).\n",
    "    df_country_name= pd.DataFrame(columns=('date', 'total_cases', 'new_cases','total_deaths', 'new_deaths')) # Creamos df del país según iso.\n",
    "    df_country_name['date'] = np.zeros(len(list_date))\n",
    "    df_country_name['total_cases'] =np.zeros(len(list_date))\n",
    "    df_country_name['new_cases'] = np.zeros(len(list_date))   # Creamos columnas vacías de ceros en el df del país.\n",
    "    df_country_name['total_deaths'] = np.zeros(len(list_date)) # Columnas con un número de entradas igual a la longitud lista de fechas.\n",
    "    df_country_name['new_deaths'] =np.zeros(len(list_date))\n",
    "    \n",
    "    # ahora como la idea es generar DataFrames con igual número de datos (para evitar errores de clave en la gráficación)\n",
    "    # las columnas del df del país serán llenadas a partir de la fecha n (donde se tiene el primer registro) con los datos\n",
    "    # de las anteriores listas y los datos anteriores a la fecha n se tomará como 0 (casos, muertes, casos totales, muertes totales).\n",
    "    for g in range (len(list_new_cases)): \n",
    "            df_country_name['total_cases'][g+n] = list_total_cases[g]\n",
    "            df_country_name['new_cases'][g+n] = list_new_cases[g]\n",
    "            df_country_name['total_deaths'][g+n]= list_total_deaths[g]\n",
    "            df_country_name['new_deaths'][g+n]= list_new_deaths[g]\n",
    "    df_country_name['date'] = list_date.copy() # Llevamos a una columna de df con las fechas.\n",
    "    \n",
    "    df_country_name['suavizado_new_cases'] = savgol_filter(df_country_name['new_cases'], 51, 3)\n",
    "    df_country_name['suavizado_new_deaths'] = savgol_filter(df_country_name['new_deaths'], 51, 3)\n",
    "    df_country_name['diff_new_cases'] = derivada(df_country_name['new_cases'])\n",
    "    df_country_name['diff_new_deaths'] = derivada(df_country_name['new_deaths'])\n",
    "    df_country_name['suavizado_diff_new_cases'] = savgol_filter(df_country_name['diff_new_cases'], 51, 3)\n",
    "    df_country_name['suavizado_diff_new_deaths'] = savgol_filter(df_country_name['diff_new_deaths'], 51, 3)\n",
    "    \n",
    "    return (df_country_name)"
   ]
  },
  {
   "cell_type": "markdown",
   "metadata": {},
   "source": [
    "#### Generamos DataFrames con cada país."
   ]
  },
  {
   "cell_type": "code",
   "execution_count": 16,
   "metadata": {},
   "outputs": [
    {
     "ename": "LinAlgError",
     "evalue": "SVD did not converge in Linear Least Squares",
     "output_type": "error",
     "traceback": [
      "\u001b[1;31m---------------------------------------------------------------------------\u001b[0m",
      "\u001b[1;31mLinAlgError\u001b[0m                               Traceback (most recent call last)",
      "\u001b[1;32m<ipython-input-16-fe1803b2233f>\u001b[0m in \u001b[0;36m<module>\u001b[1;34m\u001b[0m\n\u001b[0;32m      3\u001b[0m \u001b[0mdic_countries_df\u001b[0m\u001b[1;33m=\u001b[0m\u001b[1;33m{\u001b[0m\u001b[1;33m}\u001b[0m\u001b[1;33m\u001b[0m\u001b[1;33m\u001b[0m\u001b[0m\n\u001b[0;32m      4\u001b[0m \u001b[1;32mfor\u001b[0m \u001b[0mi\u001b[0m \u001b[1;32min\u001b[0m \u001b[0mrange\u001b[0m\u001b[1;33m(\u001b[0m\u001b[0mlen\u001b[0m\u001b[1;33m(\u001b[0m\u001b[0mlist_country_iso\u001b[0m\u001b[1;33m)\u001b[0m\u001b[1;33m)\u001b[0m\u001b[1;33m:\u001b[0m \u001b[1;31m# Se tendrá tantatos DataFrames como códigos ISO hay en la BD.\u001b[0m\u001b[1;33m\u001b[0m\u001b[1;33m\u001b[0m\u001b[0m\n\u001b[1;32m----> 5\u001b[1;33m     \u001b[0mdic_countries_df\u001b[0m\u001b[1;33m[\u001b[0m\u001b[0mlist_country_iso\u001b[0m\u001b[1;33m[\u001b[0m\u001b[0mi\u001b[0m\u001b[1;33m]\u001b[0m\u001b[1;33m]\u001b[0m\u001b[1;33m=\u001b[0m\u001b[0mgen_coutry_data\u001b[0m \u001b[1;33m(\u001b[0m\u001b[0mlist_country_iso\u001b[0m\u001b[1;33m[\u001b[0m\u001b[0mi\u001b[0m\u001b[1;33m]\u001b[0m\u001b[1;33m)\u001b[0m\u001b[1;33m\u001b[0m\u001b[1;33m\u001b[0m\u001b[0m\n\u001b[0m",
      "\u001b[1;32m<ipython-input-15-fbf74cb7882c>\u001b[0m in \u001b[0;36mgen_coutry_data\u001b[1;34m(iso_code)\u001b[0m\n\u001b[0;32m     34\u001b[0m     \u001b[0mdf_country_name\u001b[0m\u001b[1;33m[\u001b[0m\u001b[1;34m'date'\u001b[0m\u001b[1;33m]\u001b[0m \u001b[1;33m=\u001b[0m \u001b[0mlist_date\u001b[0m\u001b[1;33m.\u001b[0m\u001b[0mcopy\u001b[0m\u001b[1;33m(\u001b[0m\u001b[1;33m)\u001b[0m \u001b[1;31m# Llevamos a una columna de df con las fechas.\u001b[0m\u001b[1;33m\u001b[0m\u001b[1;33m\u001b[0m\u001b[0m\n\u001b[0;32m     35\u001b[0m \u001b[1;33m\u001b[0m\u001b[0m\n\u001b[1;32m---> 36\u001b[1;33m     \u001b[0mdf_country_name\u001b[0m\u001b[1;33m[\u001b[0m\u001b[1;34m'suavizado_new_cases'\u001b[0m\u001b[1;33m]\u001b[0m \u001b[1;33m=\u001b[0m \u001b[0msavgol_filter\u001b[0m\u001b[1;33m(\u001b[0m\u001b[0mdf_country_name\u001b[0m\u001b[1;33m[\u001b[0m\u001b[1;34m'new_cases'\u001b[0m\u001b[1;33m]\u001b[0m\u001b[1;33m,\u001b[0m \u001b[1;36m51\u001b[0m\u001b[1;33m,\u001b[0m \u001b[1;36m3\u001b[0m\u001b[1;33m)\u001b[0m\u001b[1;33m\u001b[0m\u001b[1;33m\u001b[0m\u001b[0m\n\u001b[0m\u001b[0;32m     37\u001b[0m     \u001b[0mdf_country_name\u001b[0m\u001b[1;33m[\u001b[0m\u001b[1;34m'suavizado_new_deaths'\u001b[0m\u001b[1;33m]\u001b[0m \u001b[1;33m=\u001b[0m \u001b[0msavgol_filter\u001b[0m\u001b[1;33m(\u001b[0m\u001b[0mdf_country_name\u001b[0m\u001b[1;33m[\u001b[0m\u001b[1;34m'new_deaths'\u001b[0m\u001b[1;33m]\u001b[0m\u001b[1;33m,\u001b[0m \u001b[1;36m51\u001b[0m\u001b[1;33m,\u001b[0m \u001b[1;36m3\u001b[0m\u001b[1;33m)\u001b[0m\u001b[1;33m\u001b[0m\u001b[1;33m\u001b[0m\u001b[0m\n\u001b[0;32m     38\u001b[0m     \u001b[0mdf_country_name\u001b[0m\u001b[1;33m[\u001b[0m\u001b[1;34m'diff_new_cases'\u001b[0m\u001b[1;33m]\u001b[0m \u001b[1;33m=\u001b[0m \u001b[0mderivada\u001b[0m\u001b[1;33m(\u001b[0m\u001b[0mdf_country_name\u001b[0m\u001b[1;33m[\u001b[0m\u001b[1;34m'new_cases'\u001b[0m\u001b[1;33m]\u001b[0m\u001b[1;33m)\u001b[0m\u001b[1;33m\u001b[0m\u001b[1;33m\u001b[0m\u001b[0m\n",
      "\u001b[1;32mG:\\anaconda\\lib\\site-packages\\scipy\\signal\\_savitzky_golay.py\u001b[0m in \u001b[0;36msavgol_filter\u001b[1;34m(x, window_length, polyorder, deriv, delta, axis, mode, cval)\u001b[0m\n\u001b[0;32m    346\u001b[0m         \u001b[1;31m# the last `window_length` elements.\u001b[0m\u001b[1;33m\u001b[0m\u001b[1;33m\u001b[0m\u001b[1;33m\u001b[0m\u001b[0m\n\u001b[0;32m    347\u001b[0m         \u001b[0my\u001b[0m \u001b[1;33m=\u001b[0m \u001b[0mconvolve1d\u001b[0m\u001b[1;33m(\u001b[0m\u001b[0mx\u001b[0m\u001b[1;33m,\u001b[0m \u001b[0mcoeffs\u001b[0m\u001b[1;33m,\u001b[0m \u001b[0maxis\u001b[0m\u001b[1;33m=\u001b[0m\u001b[0maxis\u001b[0m\u001b[1;33m,\u001b[0m \u001b[0mmode\u001b[0m\u001b[1;33m=\u001b[0m\u001b[1;34m\"constant\"\u001b[0m\u001b[1;33m)\u001b[0m\u001b[1;33m\u001b[0m\u001b[1;33m\u001b[0m\u001b[0m\n\u001b[1;32m--> 348\u001b[1;33m         \u001b[0m_fit_edges_polyfit\u001b[0m\u001b[1;33m(\u001b[0m\u001b[0mx\u001b[0m\u001b[1;33m,\u001b[0m \u001b[0mwindow_length\u001b[0m\u001b[1;33m,\u001b[0m \u001b[0mpolyorder\u001b[0m\u001b[1;33m,\u001b[0m \u001b[0mderiv\u001b[0m\u001b[1;33m,\u001b[0m \u001b[0mdelta\u001b[0m\u001b[1;33m,\u001b[0m \u001b[0maxis\u001b[0m\u001b[1;33m,\u001b[0m \u001b[0my\u001b[0m\u001b[1;33m)\u001b[0m\u001b[1;33m\u001b[0m\u001b[1;33m\u001b[0m\u001b[0m\n\u001b[0m\u001b[0;32m    349\u001b[0m     \u001b[1;32melse\u001b[0m\u001b[1;33m:\u001b[0m\u001b[1;33m\u001b[0m\u001b[1;33m\u001b[0m\u001b[0m\n\u001b[0;32m    350\u001b[0m         \u001b[1;31m# Any mode other than 'interp' is passed on to ndimage.convolve1d.\u001b[0m\u001b[1;33m\u001b[0m\u001b[1;33m\u001b[0m\u001b[1;33m\u001b[0m\u001b[0m\n",
      "\u001b[1;32mG:\\anaconda\\lib\\site-packages\\scipy\\signal\\_savitzky_golay.py\u001b[0m in \u001b[0;36m_fit_edges_polyfit\u001b[1;34m(x, window_length, polyorder, deriv, delta, axis, y)\u001b[0m\n\u001b[0;32m    222\u001b[0m     \u001b[0mn\u001b[0m \u001b[1;33m=\u001b[0m \u001b[0mx\u001b[0m\u001b[1;33m.\u001b[0m\u001b[0mshape\u001b[0m\u001b[1;33m[\u001b[0m\u001b[0maxis\u001b[0m\u001b[1;33m]\u001b[0m\u001b[1;33m\u001b[0m\u001b[1;33m\u001b[0m\u001b[0m\n\u001b[0;32m    223\u001b[0m     _fit_edge(x, n - window_length, n, n - halflen, n, axis,\n\u001b[1;32m--> 224\u001b[1;33m               polyorder, deriv, delta, y)\n\u001b[0m\u001b[0;32m    225\u001b[0m \u001b[1;33m\u001b[0m\u001b[0m\n\u001b[0;32m    226\u001b[0m \u001b[1;33m\u001b[0m\u001b[0m\n",
      "\u001b[1;32mG:\\anaconda\\lib\\site-packages\\scipy\\signal\\_savitzky_golay.py\u001b[0m in \u001b[0;36m_fit_edge\u001b[1;34m(x, window_start, window_stop, interp_start, interp_stop, axis, polyorder, deriv, delta, y)\u001b[0m\n\u001b[0;32m    189\u001b[0m     \u001b[1;31m# where '-1' is the same as in xx_edge.\u001b[0m\u001b[1;33m\u001b[0m\u001b[1;33m\u001b[0m\u001b[1;33m\u001b[0m\u001b[0m\n\u001b[0;32m    190\u001b[0m     poly_coeffs = np.polyfit(np.arange(0, window_stop - window_start),\n\u001b[1;32m--> 191\u001b[1;33m                              xx_edge, polyorder)\n\u001b[0m\u001b[0;32m    192\u001b[0m \u001b[1;33m\u001b[0m\u001b[0m\n\u001b[0;32m    193\u001b[0m     \u001b[1;32mif\u001b[0m \u001b[0mderiv\u001b[0m \u001b[1;33m>\u001b[0m \u001b[1;36m0\u001b[0m\u001b[1;33m:\u001b[0m\u001b[1;33m\u001b[0m\u001b[1;33m\u001b[0m\u001b[0m\n",
      "\u001b[1;32mG:\\anaconda\\lib\\site-packages\\numpy\\lib\\polynomial.py\u001b[0m in \u001b[0;36mpolyfit\u001b[1;34m(x, y, deg, rcond, full, w, cov)\u001b[0m\n\u001b[0;32m    626\u001b[0m     \u001b[0mscale\u001b[0m \u001b[1;33m=\u001b[0m \u001b[0mNX\u001b[0m\u001b[1;33m.\u001b[0m\u001b[0msqrt\u001b[0m\u001b[1;33m(\u001b[0m\u001b[1;33m(\u001b[0m\u001b[0mlhs\u001b[0m\u001b[1;33m*\u001b[0m\u001b[0mlhs\u001b[0m\u001b[1;33m)\u001b[0m\u001b[1;33m.\u001b[0m\u001b[0msum\u001b[0m\u001b[1;33m(\u001b[0m\u001b[0maxis\u001b[0m\u001b[1;33m=\u001b[0m\u001b[1;36m0\u001b[0m\u001b[1;33m)\u001b[0m\u001b[1;33m)\u001b[0m\u001b[1;33m\u001b[0m\u001b[1;33m\u001b[0m\u001b[0m\n\u001b[0;32m    627\u001b[0m     \u001b[0mlhs\u001b[0m \u001b[1;33m/=\u001b[0m \u001b[0mscale\u001b[0m\u001b[1;33m\u001b[0m\u001b[1;33m\u001b[0m\u001b[0m\n\u001b[1;32m--> 628\u001b[1;33m     \u001b[0mc\u001b[0m\u001b[1;33m,\u001b[0m \u001b[0mresids\u001b[0m\u001b[1;33m,\u001b[0m \u001b[0mrank\u001b[0m\u001b[1;33m,\u001b[0m \u001b[0ms\u001b[0m \u001b[1;33m=\u001b[0m \u001b[0mlstsq\u001b[0m\u001b[1;33m(\u001b[0m\u001b[0mlhs\u001b[0m\u001b[1;33m,\u001b[0m \u001b[0mrhs\u001b[0m\u001b[1;33m,\u001b[0m \u001b[0mrcond\u001b[0m\u001b[1;33m)\u001b[0m\u001b[1;33m\u001b[0m\u001b[1;33m\u001b[0m\u001b[0m\n\u001b[0m\u001b[0;32m    629\u001b[0m     \u001b[0mc\u001b[0m \u001b[1;33m=\u001b[0m \u001b[1;33m(\u001b[0m\u001b[0mc\u001b[0m\u001b[1;33m.\u001b[0m\u001b[0mT\u001b[0m\u001b[1;33m/\u001b[0m\u001b[0mscale\u001b[0m\u001b[1;33m)\u001b[0m\u001b[1;33m.\u001b[0m\u001b[0mT\u001b[0m  \u001b[1;31m# broadcast scale coefficients\u001b[0m\u001b[1;33m\u001b[0m\u001b[1;33m\u001b[0m\u001b[0m\n\u001b[0;32m    630\u001b[0m \u001b[1;33m\u001b[0m\u001b[0m\n",
      "\u001b[1;32mG:\\anaconda\\lib\\site-packages\\numpy\\linalg\\linalg.py\u001b[0m in \u001b[0;36mlstsq\u001b[1;34m(a, b, rcond)\u001b[0m\n\u001b[0;32m   2234\u001b[0m         \u001b[1;31m# lapack can't handle n_rhs = 0 - so allocate the array one larger in that axis\u001b[0m\u001b[1;33m\u001b[0m\u001b[1;33m\u001b[0m\u001b[1;33m\u001b[0m\u001b[0m\n\u001b[0;32m   2235\u001b[0m         \u001b[0mb\u001b[0m \u001b[1;33m=\u001b[0m \u001b[0mzeros\u001b[0m\u001b[1;33m(\u001b[0m\u001b[0mb\u001b[0m\u001b[1;33m.\u001b[0m\u001b[0mshape\u001b[0m\u001b[1;33m[\u001b[0m\u001b[1;33m:\u001b[0m\u001b[1;33m-\u001b[0m\u001b[1;36m2\u001b[0m\u001b[1;33m]\u001b[0m \u001b[1;33m+\u001b[0m \u001b[1;33m(\u001b[0m\u001b[0mm\u001b[0m\u001b[1;33m,\u001b[0m \u001b[0mn_rhs\u001b[0m \u001b[1;33m+\u001b[0m \u001b[1;36m1\u001b[0m\u001b[1;33m)\u001b[0m\u001b[1;33m,\u001b[0m \u001b[0mdtype\u001b[0m\u001b[1;33m=\u001b[0m\u001b[0mb\u001b[0m\u001b[1;33m.\u001b[0m\u001b[0mdtype\u001b[0m\u001b[1;33m)\u001b[0m\u001b[1;33m\u001b[0m\u001b[1;33m\u001b[0m\u001b[0m\n\u001b[1;32m-> 2236\u001b[1;33m     \u001b[0mx\u001b[0m\u001b[1;33m,\u001b[0m \u001b[0mresids\u001b[0m\u001b[1;33m,\u001b[0m \u001b[0mrank\u001b[0m\u001b[1;33m,\u001b[0m \u001b[0ms\u001b[0m \u001b[1;33m=\u001b[0m \u001b[0mgufunc\u001b[0m\u001b[1;33m(\u001b[0m\u001b[0ma\u001b[0m\u001b[1;33m,\u001b[0m \u001b[0mb\u001b[0m\u001b[1;33m,\u001b[0m \u001b[0mrcond\u001b[0m\u001b[1;33m,\u001b[0m \u001b[0msignature\u001b[0m\u001b[1;33m=\u001b[0m\u001b[0msignature\u001b[0m\u001b[1;33m,\u001b[0m \u001b[0mextobj\u001b[0m\u001b[1;33m=\u001b[0m\u001b[0mextobj\u001b[0m\u001b[1;33m)\u001b[0m\u001b[1;33m\u001b[0m\u001b[1;33m\u001b[0m\u001b[0m\n\u001b[0m\u001b[0;32m   2237\u001b[0m     \u001b[1;32mif\u001b[0m \u001b[0mm\u001b[0m \u001b[1;33m==\u001b[0m \u001b[1;36m0\u001b[0m\u001b[1;33m:\u001b[0m\u001b[1;33m\u001b[0m\u001b[1;33m\u001b[0m\u001b[0m\n\u001b[0;32m   2238\u001b[0m         \u001b[0mx\u001b[0m\u001b[1;33m[\u001b[0m\u001b[1;33m...\u001b[0m\u001b[1;33m]\u001b[0m \u001b[1;33m=\u001b[0m \u001b[1;36m0\u001b[0m\u001b[1;33m\u001b[0m\u001b[1;33m\u001b[0m\u001b[0m\n",
      "\u001b[1;32mG:\\anaconda\\lib\\site-packages\\numpy\\linalg\\linalg.py\u001b[0m in \u001b[0;36m_raise_linalgerror_lstsq\u001b[1;34m(err, flag)\u001b[0m\n\u001b[0;32m    107\u001b[0m \u001b[1;33m\u001b[0m\u001b[0m\n\u001b[0;32m    108\u001b[0m \u001b[1;32mdef\u001b[0m \u001b[0m_raise_linalgerror_lstsq\u001b[0m\u001b[1;33m(\u001b[0m\u001b[0merr\u001b[0m\u001b[1;33m,\u001b[0m \u001b[0mflag\u001b[0m\u001b[1;33m)\u001b[0m\u001b[1;33m:\u001b[0m\u001b[1;33m\u001b[0m\u001b[1;33m\u001b[0m\u001b[0m\n\u001b[1;32m--> 109\u001b[1;33m     \u001b[1;32mraise\u001b[0m \u001b[0mLinAlgError\u001b[0m\u001b[1;33m(\u001b[0m\u001b[1;34m\"SVD did not converge in Linear Least Squares\"\u001b[0m\u001b[1;33m)\u001b[0m\u001b[1;33m\u001b[0m\u001b[1;33m\u001b[0m\u001b[0m\n\u001b[0m\u001b[0;32m    110\u001b[0m \u001b[1;33m\u001b[0m\u001b[0m\n\u001b[0;32m    111\u001b[0m \u001b[1;32mdef\u001b[0m \u001b[0mget_linalg_error_extobj\u001b[0m\u001b[1;33m(\u001b[0m\u001b[0mcallback\u001b[0m\u001b[1;33m)\u001b[0m\u001b[1;33m:\u001b[0m\u001b[1;33m\u001b[0m\u001b[1;33m\u001b[0m\u001b[0m\n",
      "\u001b[1;31mLinAlgError\u001b[0m: SVD did not converge in Linear Least Squares"
     ]
    }
   ],
   "source": [
    "# Se genera un diccionario que guarde todos los df de cada país con la clave igual al ISO 3166-1 del país respectivo.\n",
    "list_country_iso=data_country_iso_code['ISO 3166-1 .1']  # Aquí se demora unos segundos puesto que hay alto procesamiento de datos. <-----\n",
    "dic_countries_df={}\n",
    "for i in range(len(list_country_iso)): # Se tendrá tantatos DataFrames como códigos ISO hay en la BD.\n",
    "    dic_countries_df[list_country_iso[i]]=gen_coutry_data (list_country_iso[i])"
   ]
  },
  {
   "cell_type": "markdown",
   "metadata": {},
   "source": [
    "#### Generamos DataFrame resumen del COVID-19."
   ]
  },
  {
   "cell_type": "code",
   "execution_count": null,
   "metadata": {},
   "outputs": [],
   "source": [
    "# Se desea tener un df que contenga los valores de muertes totales y casos totales  de cada pa{ispara la ultima fecha de actualización de\n",
    "# la BD: \n",
    "list_summary_deaths = []\n",
    "list_summary_cases=[]\n",
    "for i in range(len(dic_countries_df)):\n",
    "    # Agregamos a la lista de resumen de casos totales y de muertes totales los datos respectivos de cada país para la ultuma fecha:\n",
    "    list_summary_cases.append(dic_countries_df[data_country_iso_code['ISO 3166-1 .1'][i]]['total_cases'][len(dic_countries_df[data_country_iso_code['ISO 3166-1 .1'][0]])-1])\n",
    "    list_summary_deaths.append(dic_countries_df[data_country_iso_code['ISO 3166-1 .1'][i]]['total_deaths'][len(dic_countries_df[data_country_iso_code['ISO 3166-1 .1'][0]])-1])\n",
    "\n",
    "df_summary_covid= pd.DataFrame(columns=('Nombre del país','total_cases','total_deaths'))\n",
    "df_summary_covid['Nombre del país'] = data_country_iso['Nombre del país']                          # Creación de df.\n",
    "df_summary_covid['total_cases'] = list_summary_cases\n",
    "df_summary_covid['total_deaths'] = list_summary_deaths\n",
    "               \n",
    "df_summary_covid_ascendent = df_summary_covid.sort_values('total_cases',ascending=False) # Creamos df organizado de desendentemente\n",
    "df_summary_covid_desendent = df_summary_covid.sort_values('total_cases',ascending=True) # Creamos df organizado de asendentemente\n",
    "                                                                                        # Según número de casos."
   ]
  },
  {
   "cell_type": "markdown",
   "metadata": {},
   "source": [
    "#### Encabezado."
   ]
  },
  {
   "cell_type": "code",
   "execution_count": null,
   "metadata": {},
   "outputs": [],
   "source": [
    "# Se lee imagen y partir de esta se crea objeto widget image del encabezado:\n",
    "file = open(\"images/logo_corona.png\", \"rb\")\n",
    "image = file.read()\n",
    "img_encabezado= widgets.Image(\n",
    "    value=image,\n",
    "    format='png',\n",
    "    width=1000,\n",
    "    height=200,\n",
    ")"
   ]
  },
  {
   "cell_type": "markdown",
   "metadata": {},
   "source": [
    "#### Tabla."
   ]
  },
  {
   "cell_type": "code",
   "execution_count": null,
   "metadata": {},
   "outputs": [],
   "source": [
    "# Se crea objeto como de figure widget a partir de un objeto table para crear la tabla resumen del aplicativo:\n",
    "fig_tabla = go.FigureWidget(go.Table(\n",
    "        header=dict(\n",
    "            values=[ \"Nombre<br>del país\", \"casos\",\n",
    "                    \"Muertes\"],\n",
    "            font=dict(size=12),\n",
    "            align=\"left\"\n",
    "        ),\n",
    "        cells=dict(\n",
    "            values=[df_summary_covid_ascendent['Nombre del país'],df_summary_covid_ascendent['total_cases'],df_summary_covid_ascendent['total_deaths']],\n",
    "            align = \"left\")\n",
    "    ))\n",
    "\n",
    "\n",
    "fig_table=fig_tabla.update_layout(margin = {'r':0,'b':20,'t':20,'l':0},\n",
    "            height=900,         \n",
    "            width = 180,\n",
    "            showlegend=False,\n",
    "            title_text=\" \",\n",
    "            template= 'simple_white'\n",
    "        )"
   ]
  },
  {
   "cell_type": "markdown",
   "metadata": {},
   "source": [
    "#### Selector del país."
   ]
  },
  {
   "cell_type": "code",
   "execution_count": null,
   "metadata": {},
   "outputs": [],
   "source": [
    "# Se crea objeto widgets dropdown a partir de una lista donde en cada posición se guarda el codigo iso, nombre del país y número de casos \n",
    "# de cada país, como se pide que las opciones de este objeto estén organizados de manera ascendente se usa el df resumen desendet:\n",
    "list_options=[]\n",
    "for i in range(len(df_summary_covid_ascendent)-1):\n",
    "    list_options.append((df_summary_covid_desendent.index[i]+'  ' + df_summary_covid_desendent['Nombre del país'][i] + ' ('+ str (int (df_summary_covid_desendent['total_cases'][i])) +')', len(df_summary_covid_ascendent)-i-1))\n",
    "\n",
    "country_selector= widgets.Dropdown(\n",
    "                options=list_options,\n",
    "                value=2,\n",
    "                description='País: ',\n",
    "                layout=Layout(width='30%', height='30px',align = \"center\")\n",
    "                )"
   ]
  },
  {
   "cell_type": "markdown",
   "metadata": {},
   "source": [
    "#### Selector de tiempo."
   ]
  },
  {
   "cell_type": "code",
   "execution_count": null,
   "metadata": {},
   "outputs": [],
   "source": [
    "# Se crea objeto widgets selection range slider para tomar una ventana temporal, donde las opciones de este corresponden a la lista de fechas:\n",
    "time_selector = widgets.SelectionRangeSlider(\n",
    "                options=list_date,\n",
    "                index=(0, len(list_date)-1),\n",
    "                description='              Tiempo',\n",
    "                disabled=False,\n",
    "                layout=Layout(width='500px', height='30px',align = \"rigth\")\n",
    "                )"
   ]
  },
  {
   "cell_type": "markdown",
   "metadata": {},
   "source": [
    "## 2. Funcionalidad del aplicativo."
   ]
  },
  {
   "cell_type": "code",
   "execution_count": null,
   "metadata": {},
   "outputs": [],
   "source": [
    "# Debido a que la función interactive (función que permite que el aplicativo se acualice costantemente según los widgets determinados)\n",
    "# necesita como argumento una función donde se guarde las instrucciones que deben variar con los wigets se debe generar dicha subprograma:\n",
    "\n",
    "def figs_interactive(a,b):\n",
    "    \n",
    "    # En este caso como lo que varía constantemente son las gráficas se genera dos figures, fig_up y fig down.\n",
    "    \n",
    "    # fig_up es un subplots el cual genera dos gráficas organizadas en una matriz 1x2 , donde cada una de ellas \n",
    "    # tiene dos ejes Y  con su respectiva función repecto al día (fecha) , la primera (gráfico up left) contiene casos y casos acumulados, \n",
    "    # y la segunda (gráfico up rigth) contiene muertes y muertes aculadas.\n",
    "    \n",
    "    \n",
    "    # fig_down es un subplots el cual genera dos gráficas de determinado país organizadas en una matriz 1x2 , donde cada una de ella tiene \n",
    "    # una función respecto a las fechas seleccionadas, la primera (gráfico down left) tiene la derivada del numero de casos respecto\n",
    "    # al tiempo y la segunda (gráfico down rigth) muestra la derivada de las muertes con respecto al tiempo\n",
    "    \n",
    "    date_1 =list_date.index(a[0]) # buscamos segun el parámetro a (que es una tupla donde guarda los valores del slider) \n",
    "    date_2 =list_date.index(a[1]) # el indice de la fecha en la lista de fechas.\n",
    "    x1= list_date[date_1:date_2]\n",
    "\n",
    "    fig_up = make_subplots(specs=[[{\"secondary_y\": True},{\"secondary_y\": True}]], rows=1, cols=2, subplot_titles=(\"Casos\", \"Muertes\"), x_title=' ', y_title='  ', \n",
    "                    horizontal_spacing=0.16)\n",
    "    \n",
    "    fig_up.add_trace(go.Scatter( x=x1, y=dic_countries_df[df_summary_covid_ascendent.index[b]]['new_cases'][date_1:date_2],\n",
    "                        mode='markers',\n",
    "                        name='Casos',\n",
    "                        marker=dict( color='#2D517D'),\n",
    "                        legendgroup=\"grupo 1\"),\n",
    "                        secondary_y=False,  row=1, col=1)\n",
    "    \n",
    "    fig_up.add_trace(go.Scatter( x=x1, y=dic_countries_df[df_summary_covid_ascendent.index[b]]['suavizado_new_cases'][date_1:date_2],\n",
    "                        mode='lines',\n",
    "                        name='Casos(suavizado) ',\n",
    "                        marker=dict( color='#2D517D'),\n",
    "                        legendgroup=\"grupo 2\"),   \n",
    "                        secondary_y=False,  row=1, col=1)\n",
    "    \n",
    "    fig_up.add_trace(go.Scatter( x=x1, y=dic_countries_df[df_summary_covid_ascendent.index[b]]['total_cases'][date_1:date_2],\n",
    "                        mode='lines',         \n",
    "                        name='\\tCasos totales'+' '*5,\n",
    "                        marker=dict( color='#F6C03A'),\n",
    "                        legendgroup=\"grupo 3\"),\n",
    "                        secondary_y=True,  row=1, col=1)\n",
    "    \n",
    "    fig_up.add_trace(go.Scatter( x=x1, y=dic_countries_df[df_summary_covid_ascendent.index[b]]['new_deaths'][date_1:date_2],\n",
    "                        mode='markers',\n",
    "                        name='\\t\\tMuertes',\n",
    "                        marker=dict( color='#008080'),\n",
    "                        legendgroup=\"grupo 4\"),\n",
    "                        secondary_y=False, row=1, col=2)\n",
    "    \n",
    "    fig_up.add_trace(go.Scatter( x=x1, y=dic_countries_df[df_summary_covid_ascendent.index[b]]['suavizado_new_deaths'][date_1:date_2],\n",
    "                        mode='lines',\n",
    "                        name='Muertes (Suavizado) ',\n",
    "                        marker=dict( color='#008080'),\n",
    "                        legendgroup=\"grupo 5\"),\n",
    "                        secondary_y=False, row=1, col=2)\n",
    "    \n",
    "    fig_up.add_trace(go.Scatter( x=x1, y=dic_countries_df[df_summary_covid_ascendent.index[b]]['total_deaths'][date_1:date_2],\n",
    "                        mode='lines',         \n",
    "                        name='\\t\\tMuertes totales',\n",
    "                        marker=dict( color='#808080'), \n",
    "                        legendgroup=\"grupo 6\"),\n",
    "                        secondary_y=True,  row=1, col=2)\n",
    "    \n",
    "\n",
    "    fig_up.update_layout(legend_orientation = 'h',margin=dict(l=5,r=0,b=0,t=30),legend=dict(\n",
    "             x=0,\n",
    "             y=-0.3\n",
    "             ),\n",
    "         \n",
    "         title={\n",
    "            'text': ' ',\n",
    "            #'y':0.035,\n",
    "            #'x':0.5,\n",
    "            #'xanchor': 'center',\n",
    "            #'yanchor': 'top'\n",
    "             },\n",
    "             height = 400,             \n",
    "             width = 900, \n",
    "             # plot_bgcolor = 'white',\n",
    "             template = \"simple_white\"\n",
    "        )\n",
    "\n",
    "    fig_up.update_xaxes(title_text='Día(fecha)',ticks=\"outside\", tickwidth=2, tickcolor='gray', ticklen=5)\n",
    "    #fig.update_yaxes(title_text=y2_title, secondary_y=False,ticks=\"outside\", tickwidth=2, tickcolor='gray', ticklen=10)\n",
    "    fig_up.update_yaxes(title_text= 'Acumulados', secondary_y=True,ticks=\"outside\", tickwidth=2, tickcolor='gray', ticklen=10)\n",
    "    \n",
    "    fig_down = make_subplots(specs=[[{\"secondary_y\": True},{\"secondary_y\": True}]], rows=1, cols=2, \n",
    "                             subplot_titles=(\"Derivada temporal nuevos casos\", \"Derivada temporal nuevas muertes\"),x_title=' ',y_title='  ', \n",
    "                             horizontal_spacing=0.16)\n",
    "    \n",
    "    fig_down.add_trace(go.Scatter( x=x1, y=dic_countries_df[df_summary_covid_ascendent.index[b]]['diff_new_cases'][date_1:date_2],\n",
    "                        mode='markers+lines',\n",
    "                        name='\\tTasa de crecimiento(casos)',\n",
    "                        marker=dict( color='#800080'),\n",
    "                        legendgroup=\"grupo 1\"),\n",
    "                        secondary_y=False,  row=1, col=1)\n",
    "    \n",
    "    fig_down.add_trace(go.Scatter( x=x1, y=dic_countries_df[df_summary_covid_ascendent.index[b]]['suavizado_diff_new_cases'][date_1:date_2],\n",
    "                        mode='lines',\n",
    "                        name='Suavizado',\n",
    "                        marker=dict( color='#ECA4C4'),\n",
    "                        legendgroup=\"grupo 2\"),\n",
    "                        secondary_y=False,  row=1, col=1)\n",
    "    \n",
    "    fig_down.add_trace(go.Scatter( x=x1, y=dic_countries_df[df_summary_covid_ascendent.index[b]]['diff_new_deaths'][date_1:date_2],\n",
    "                        mode='markers+lines',         \n",
    "                        name='\\t\\tTasa de crecimiento(Muertes)',\n",
    "                        marker=dict( color='#3ECFDC'),\n",
    "                        legendgroup=\"grupo 3\"),\n",
    "                        secondary_y=False,  row=1, col=2)\n",
    "    \n",
    "    fig_down.add_trace(go.Scatter( x=x1, y=dic_countries_df[df_summary_covid_ascendent.index[b]]['suavizado_diff_new_deaths'][date_1:date_2],\n",
    "                        mode='lines',         \n",
    "                        name='(Savizado)',\n",
    "                        marker=dict( color='#000000'),\n",
    "                        legendgroup=\"grupo 4\"),\n",
    "                        secondary_y=False,  row=1, col=2)\n",
    "    \n",
    "   \n",
    "\n",
    "    fig_down.update_layout(legend_orientation = 'h',margin=dict(l=4,r=0,b=0,t=30),legend=dict(\n",
    "             x=0,\n",
    "             y=-0.3\n",
    "             ),\n",
    "         \n",
    "            title={\n",
    "            'text': ' ',\n",
    "            #'y':0.035,\n",
    "            #'x':0.5,\n",
    "            #'xanchor': 'center',\n",
    "            #'yanchor': 'top'\n",
    "             },\n",
    "             height = 400,             \n",
    "             width = 900, \n",
    "             # plot_bgcolor = 'white',\n",
    "             template = \"simple_white\"\n",
    "        )\n",
    "\n",
    "    fig_down.update_xaxes(title_text='Día(fecha)',ticks=\"outside\", tickwidth=2, tickcolor='gray', ticklen=5)\n",
    "    #fig.update_yaxes(title_text=y2_title, secondary_y=False,ticks=\"outside\", tickwidth=2, tickcolor='gray', ticklen=10)\n",
    "     \n",
    "    fig_up.show()    # Comando para enseñar la figura, es necesario para que cada vez que se varien los widgets las gráficas canbueb\n",
    "    fig_down.show()\n",
    "    \n",
    "figs_interac=widgets.interactive(figs_interactive, a=time_selector, b=country_selector) # Guarmos objeto interactivo.\n"
   ]
  },
  {
   "cell_type": "markdown",
   "metadata": {},
   "source": [
    "## 3. Integración de interfaz gráfica."
   ]
  },
  {
   "cell_type": "code",
   "execution_count": null,
   "metadata": {},
   "outputs": [],
   "source": [
    "# Usando organizadores widgets VBox y HBox se organiza una matriz tal que obtengamos la matriz deseada donde en cada celda de esta\n",
    "# matriz se situe un objeto widget.\n",
    "interfaz = widgets.VBox([widgets.HBox([img_encabezado]),widgets.HBox([fig_table,figs_interac])])\n",
    "interfaz"
   ]
  },
  {
   "cell_type": "code",
   "execution_count": 17,
   "metadata": {},
   "outputs": [
    {
     "data": {
      "text/html": [
       "<div>\n",
       "<style scoped>\n",
       "    .dataframe tbody tr th:only-of-type {\n",
       "        vertical-align: middle;\n",
       "    }\n",
       "\n",
       "    .dataframe tbody tr th {\n",
       "        vertical-align: top;\n",
       "    }\n",
       "\n",
       "    .dataframe thead th {\n",
       "        text-align: right;\n",
       "    }\n",
       "</style>\n",
       "<table border=\"1\" class=\"dataframe\">\n",
       "  <thead>\n",
       "    <tr style=\"text-align: right;\">\n",
       "      <th></th>\n",
       "      <th>date</th>\n",
       "      <th>total_cases</th>\n",
       "      <th>new_cases</th>\n",
       "      <th>total_deaths</th>\n",
       "      <th>new_deaths</th>\n",
       "      <th>suavizado_new_cases</th>\n",
       "      <th>suavizado_new_deaths</th>\n",
       "      <th>diff_new_cases</th>\n",
       "      <th>diff_new_deaths</th>\n",
       "      <th>suavizado_diff_new_cases</th>\n",
       "      <th>suavizado_diff_new_deaths</th>\n",
       "    </tr>\n",
       "  </thead>\n",
       "  <tbody>\n",
       "    <tr>\n",
       "      <td>0</td>\n",
       "      <td>2019-12-31</td>\n",
       "      <td>0.0</td>\n",
       "      <td>0.0</td>\n",
       "      <td>0.0</td>\n",
       "      <td>0.0</td>\n",
       "      <td>0.000000</td>\n",
       "      <td>0.000000</td>\n",
       "      <td>0.000000</td>\n",
       "      <td>0.0</td>\n",
       "      <td>0.000000</td>\n",
       "      <td>0.000000</td>\n",
       "    </tr>\n",
       "    <tr>\n",
       "      <td>1</td>\n",
       "      <td>2020-01-01</td>\n",
       "      <td>0.0</td>\n",
       "      <td>0.0</td>\n",
       "      <td>0.0</td>\n",
       "      <td>0.0</td>\n",
       "      <td>0.000000</td>\n",
       "      <td>0.000000</td>\n",
       "      <td>0.000000</td>\n",
       "      <td>0.0</td>\n",
       "      <td>0.000000</td>\n",
       "      <td>0.000000</td>\n",
       "    </tr>\n",
       "    <tr>\n",
       "      <td>2</td>\n",
       "      <td>2020-01-02</td>\n",
       "      <td>0.0</td>\n",
       "      <td>0.0</td>\n",
       "      <td>0.0</td>\n",
       "      <td>0.0</td>\n",
       "      <td>0.000000</td>\n",
       "      <td>0.000000</td>\n",
       "      <td>0.000000</td>\n",
       "      <td>0.0</td>\n",
       "      <td>0.000000</td>\n",
       "      <td>0.000000</td>\n",
       "    </tr>\n",
       "    <tr>\n",
       "      <td>3</td>\n",
       "      <td>2020-01-03</td>\n",
       "      <td>0.0</td>\n",
       "      <td>0.0</td>\n",
       "      <td>0.0</td>\n",
       "      <td>0.0</td>\n",
       "      <td>0.000000</td>\n",
       "      <td>0.000000</td>\n",
       "      <td>0.000000</td>\n",
       "      <td>0.0</td>\n",
       "      <td>0.000000</td>\n",
       "      <td>0.000000</td>\n",
       "    </tr>\n",
       "    <tr>\n",
       "      <td>4</td>\n",
       "      <td>2020-01-04</td>\n",
       "      <td>0.0</td>\n",
       "      <td>0.0</td>\n",
       "      <td>0.0</td>\n",
       "      <td>0.0</td>\n",
       "      <td>0.000000</td>\n",
       "      <td>0.000000</td>\n",
       "      <td>0.000000</td>\n",
       "      <td>0.0</td>\n",
       "      <td>0.000000</td>\n",
       "      <td>0.000000</td>\n",
       "    </tr>\n",
       "    <tr>\n",
       "      <td>...</td>\n",
       "      <td>...</td>\n",
       "      <td>...</td>\n",
       "      <td>...</td>\n",
       "      <td>...</td>\n",
       "      <td>...</td>\n",
       "      <td>...</td>\n",
       "      <td>...</td>\n",
       "      <td>...</td>\n",
       "      <td>...</td>\n",
       "      <td>...</td>\n",
       "      <td>...</td>\n",
       "    </tr>\n",
       "    <tr>\n",
       "      <td>179</td>\n",
       "      <td>2020-06-27</td>\n",
       "      <td>84442.0</td>\n",
       "      <td>3843.0</td>\n",
       "      <td>2811.0</td>\n",
       "      <td>157.0</td>\n",
       "      <td>3223.836082</td>\n",
       "      <td>120.813658</td>\n",
       "      <td>472.250000</td>\n",
       "      <td>-30.0</td>\n",
       "      <td>0.782493</td>\n",
       "      <td>-4.885277</td>\n",
       "    </tr>\n",
       "    <tr>\n",
       "      <td>180</td>\n",
       "      <td>2020-06-28</td>\n",
       "      <td>88591.0</td>\n",
       "      <td>4149.0</td>\n",
       "      <td>2939.0</td>\n",
       "      <td>128.0</td>\n",
       "      <td>3330.731583</td>\n",
       "      <td>126.249616</td>\n",
       "      <td>-425.666667</td>\n",
       "      <td>10.5</td>\n",
       "      <td>-25.078345</td>\n",
       "      <td>-6.805714</td>\n",
       "    </tr>\n",
       "    <tr>\n",
       "      <td>181</td>\n",
       "      <td>2020-06-29</td>\n",
       "      <td>91769.0</td>\n",
       "      <td>3178.0</td>\n",
       "      <td>3106.0</td>\n",
       "      <td>167.0</td>\n",
       "      <td>3439.686873</td>\n",
       "      <td>131.875843</td>\n",
       "      <td>-496.666667</td>\n",
       "      <td>-3.5</td>\n",
       "      <td>-53.824398</td>\n",
       "      <td>-8.917816</td>\n",
       "    </tr>\n",
       "    <tr>\n",
       "      <td>182</td>\n",
       "      <td>2020-06-30</td>\n",
       "      <td>95043.0</td>\n",
       "      <td>3274.0</td>\n",
       "      <td>3223.0</td>\n",
       "      <td>117.0</td>\n",
       "      <td>3550.696260</td>\n",
       "      <td>137.695932</td>\n",
       "      <td>629.500000</td>\n",
       "      <td>-94.5</td>\n",
       "      <td>-85.572217</td>\n",
       "      <td>-11.228944</td>\n",
       "    </tr>\n",
       "    <tr>\n",
       "      <td>183</td>\n",
       "      <td>2020-07-01</td>\n",
       "      <td>97846.0</td>\n",
       "      <td>2803.0</td>\n",
       "      <td>3334.0</td>\n",
       "      <td>111.0</td>\n",
       "      <td>3663.754053</td>\n",
       "      <td>143.713478</td>\n",
       "      <td>-754.500000</td>\n",
       "      <td>16.0</td>\n",
       "      <td>-120.438353</td>\n",
       "      <td>-13.746456</td>\n",
       "    </tr>\n",
       "  </tbody>\n",
       "</table>\n",
       "<p>184 rows × 11 columns</p>\n",
       "</div>"
      ],
      "text/plain": [
       "           date  total_cases  new_cases  total_deaths  new_deaths  \\\n",
       "0    2019-12-31          0.0        0.0           0.0         0.0   \n",
       "1    2020-01-01          0.0        0.0           0.0         0.0   \n",
       "2    2020-01-02          0.0        0.0           0.0         0.0   \n",
       "3    2020-01-03          0.0        0.0           0.0         0.0   \n",
       "4    2020-01-04          0.0        0.0           0.0         0.0   \n",
       "..          ...          ...        ...           ...         ...   \n",
       "179  2020-06-27      84442.0     3843.0        2811.0       157.0   \n",
       "180  2020-06-28      88591.0     4149.0        2939.0       128.0   \n",
       "181  2020-06-29      91769.0     3178.0        3106.0       167.0   \n",
       "182  2020-06-30      95043.0     3274.0        3223.0       117.0   \n",
       "183  2020-07-01      97846.0     2803.0        3334.0       111.0   \n",
       "\n",
       "     suavizado_new_cases  suavizado_new_deaths  diff_new_cases  \\\n",
       "0               0.000000              0.000000        0.000000   \n",
       "1               0.000000              0.000000        0.000000   \n",
       "2               0.000000              0.000000        0.000000   \n",
       "3               0.000000              0.000000        0.000000   \n",
       "4               0.000000              0.000000        0.000000   \n",
       "..                   ...                   ...             ...   \n",
       "179          3223.836082            120.813658      472.250000   \n",
       "180          3330.731583            126.249616     -425.666667   \n",
       "181          3439.686873            131.875843     -496.666667   \n",
       "182          3550.696260            137.695932      629.500000   \n",
       "183          3663.754053            143.713478     -754.500000   \n",
       "\n",
       "     diff_new_deaths  suavizado_diff_new_cases  suavizado_diff_new_deaths  \n",
       "0                0.0                  0.000000                   0.000000  \n",
       "1                0.0                  0.000000                   0.000000  \n",
       "2                0.0                  0.000000                   0.000000  \n",
       "3                0.0                  0.000000                   0.000000  \n",
       "4                0.0                  0.000000                   0.000000  \n",
       "..               ...                       ...                        ...  \n",
       "179            -30.0                  0.782493                  -4.885277  \n",
       "180             10.5                -25.078345                  -6.805714  \n",
       "181             -3.5                -53.824398                  -8.917816  \n",
       "182            -94.5                -85.572217                 -11.228944  \n",
       "183             16.0               -120.438353                 -13.746456  \n",
       "\n",
       "[184 rows x 11 columns]"
      ]
     },
     "execution_count": 17,
     "metadata": {},
     "output_type": "execute_result"
    }
   ],
   "source": [
    "dic_countries_df['COL']"
   ]
  },
  {
   "cell_type": "code",
   "execution_count": null,
   "metadata": {},
   "outputs": [],
   "source": []
  }
 ],
 "metadata": {
  "kernelspec": {
   "display_name": "Python 3",
   "language": "python",
   "name": "python3"
  },
  "language_info": {
   "codemirror_mode": {
    "name": "ipython",
    "version": 3
   },
   "file_extension": ".py",
   "mimetype": "text/x-python",
   "name": "python",
   "nbconvert_exporter": "python",
   "pygments_lexer": "ipython3",
   "version": "3.7.4"
  }
 },
 "nbformat": 4,
 "nbformat_minor": 2
}
